{
 "cells": [
  {
   "cell_type": "markdown",
   "id": "97d34b75-e5d2-47e0-806b-5f049c09a367",
   "metadata": {},
   "source": [
    "# Analysis of the pretrained facenet"
   ]
  },
  {
   "cell_type": "markdown",
   "id": "549b0a0c-91b7-4c00-afc0-18307314a540",
   "metadata": {},
   "source": [
    "## Imports"
   ]
  },
  {
   "cell_type": "code",
   "execution_count": 1,
   "id": "4beb640b-f929-4591-8188-065eb050d3d2",
   "metadata": {},
   "outputs": [],
   "source": [
    "import pandas as pd\n",
    "import numpy as np\n",
    "import matplotlib.pyplot as plt\n",
    "import rasterio as rio\n",
    "import sklearn as sk\n",
    "import scipy as sc\n",
    "import seaborn as sns"
   ]
  },
  {
   "cell_type": "code",
   "execution_count": 2,
   "id": "17cf9465-e7d5-4b66-9bcf-183feacf5bc4",
   "metadata": {},
   "outputs": [],
   "source": [
    "import tqdm\n",
    "#from tqdm import tqdm\n",
    "from tqdm.notebook import tqdm # for notebooks\n",
    "tqdm.pandas()"
   ]
  },
  {
   "cell_type": "code",
   "execution_count": 3,
   "id": "c948ba42-bc4a-4656-9eda-a1aaba3f7d49",
   "metadata": {},
   "outputs": [],
   "source": [
    "import pickle\n",
    "import gc\n",
    "collectAll = lambda : gc.collect(0) + gc.collect(1) + gc.collect(2)"
   ]
  },
  {
   "cell_type": "code",
   "execution_count": 4,
   "id": "44409dfb-a9d2-44fc-90e3-7738d30d6c96",
   "metadata": {},
   "outputs": [],
   "source": [
    "#from pandarallel import pandarallel\n",
    "#pandarallel.initialize(progress_bar=True)"
   ]
  },
  {
   "cell_type": "code",
   "execution_count": 5,
   "id": "e1e01f43-0111-46a0-a91c-be29cae07cd2",
   "metadata": {
    "tags": []
   },
   "outputs": [],
   "source": [
    "#import itables\n",
    "#from itables import show"
   ]
  },
  {
   "cell_type": "code",
   "execution_count": 6,
   "id": "c55cb254-01e1-4bc0-94fb-7294efa32323",
   "metadata": {},
   "outputs": [],
   "source": [
    "from collections import namedtuple\n",
    "import itertools\n",
    "from itertools import product"
   ]
  },
  {
   "cell_type": "code",
   "execution_count": 7,
   "id": "005c22f2-c5b6-49dc-8c48-189dfb31403f",
   "metadata": {},
   "outputs": [],
   "source": [
    "from skimage.feature import graycomatrix\n",
    "from skimage.feature import graycoprops\n",
    "from math import pi"
   ]
  },
  {
   "cell_type": "code",
   "execution_count": 8,
   "id": "fce43a2d-124c-451a-907f-4d1cf5865948",
   "metadata": {},
   "outputs": [],
   "source": [
    "import PIL as pil\n",
    "from PIL import Image, ImageDraw"
   ]
  },
  {
   "cell_type": "code",
   "execution_count": 9,
   "id": "f3d8bdcf-160f-4fd6-98f6-a7ec3231e6a5",
   "metadata": {},
   "outputs": [],
   "source": [
    "#import papermill as pm"
   ]
  },
  {
   "cell_type": "code",
   "execution_count": 10,
   "id": "69cc4692-088e-4dac-994f-5290e9ff6a88",
   "metadata": {
    "tags": []
   },
   "outputs": [],
   "source": [
    "import math"
   ]
  },
  {
   "cell_type": "code",
   "execution_count": 11,
   "id": "105b3f06-87b9-4a1e-9adb-bd9090e53df6",
   "metadata": {},
   "outputs": [],
   "source": [
    "import matplotlib\n",
    "matplotlib.rcParams[\"image.origin\"] = 'upper'"
   ]
  },
  {
   "cell_type": "code",
   "execution_count": 12,
   "id": "fd368cd2-e303-4a80-a660-b47c53445b2e",
   "metadata": {},
   "outputs": [],
   "source": [
    "import os"
   ]
  },
  {
   "cell_type": "code",
   "execution_count": 13,
   "id": "565046e0-7837-4cf5-876a-b61ce104bbea",
   "metadata": {},
   "outputs": [],
   "source": [
    "import functools"
   ]
  },
  {
   "cell_type": "code",
   "execution_count": null,
   "id": "01c299d6-9210-4515-950b-a483d6903076",
   "metadata": {},
   "outputs": [],
   "source": [
    "import tensorflow as tf"
   ]
  },
  {
   "cell_type": "code",
   "execution_count": null,
   "id": "198c06ef-f209-4f9f-bfd5-5f7cd0fa30ea",
   "metadata": {},
   "outputs": [],
   "source": [
    "import torch\n",
    "import torchvision"
   ]
  },
  {
   "cell_type": "code",
   "execution_count": null,
   "id": "5bb65e81-a1b4-411e-b26c-a7c31584af12",
   "metadata": {},
   "outputs": [],
   "source": [
    "from einops import *"
   ]
  },
  {
   "cell_type": "code",
   "execution_count": null,
   "id": "f4167f4d-0ac7-4816-b7ce-05b2790dd229",
   "metadata": {},
   "outputs": [],
   "source": [
    "import cv2"
   ]
  },
  {
   "cell_type": "markdown",
   "id": "f9d05dfc-d3c8-4b12-9f8c-662970293c0a",
   "metadata": {},
   "source": [
    "## Load in the pretrained facenet"
   ]
  },
  {
   "cell_type": "code",
   "execution_count": null,
   "id": "4bc61524-52ea-445d-ac52-7453bd792787",
   "metadata": {},
   "outputs": [],
   "source": [
    "import model\n",
    "from model import face_model"
   ]
  },
  {
   "cell_type": "code",
   "execution_count": null,
   "id": "217606f1-bfe9-4163-aae4-40a776d93392",
   "metadata": {},
   "outputs": [],
   "source": [
    "import importlib\n",
    "model = importlib.reload(model)\n",
    "face_model = model.face_model"
   ]
  },
  {
   "cell_type": "code",
   "execution_count": null,
   "id": "6609d33e-48b9-4df8-8807-14bfe349a8b2",
   "metadata": {},
   "outputs": [],
   "source": [
    "class Params():\n",
    "    def __init__(self):\n",
    "        self.image_size = 250\n",
    "        self.embedding_size=128"
   ]
  },
  {
   "cell_type": "code",
   "execution_count": null,
   "id": "4cb3fd96-e981-475c-89af-7ad1cbc7ac87",
   "metadata": {},
   "outputs": [],
   "source": [
    "fm = face_model(Params())"
   ]
  },
  {
   "cell_type": "code",
   "execution_count": null,
   "id": "38e402f3-9e0f-4c09-8053-11f2aaa5c38b",
   "metadata": {},
   "outputs": [],
   "source": [
    "checkpoint = tf.train.Checkpoint(fm)"
   ]
  },
  {
   "cell_type": "code",
   "execution_count": null,
   "id": "3a3e58bf-3754-484e-a1ea-d5b5cf4797b2",
   "metadata": {},
   "outputs": [],
   "source": [
    "checkpoint.restore('../weights/weights/ckpt/ckpt-11')"
   ]
  },
  {
   "cell_type": "markdown",
   "id": "c954b8da-d5b4-43f1-9441-bebfc0d641e6",
   "metadata": {},
   "source": [
    "## Load in our data"
   ]
  },
  {
   "cell_type": "code",
   "execution_count": null,
   "id": "bdb67122-77f0-41e3-9457-9f168b3534fa",
   "metadata": {},
   "outputs": [],
   "source": [
    "from pathlib import Path\n",
    "result = Path(\"./glcms_3_7_128\").rglob(\"*.npz\")"
   ]
  },
  {
   "cell_type": "code",
   "execution_count": null,
   "id": "6c8755ac-67ad-43e3-8f44-fd3bfb63cd25",
   "metadata": {},
   "outputs": [],
   "source": [
    "df = pd.DataFrame(result, columns=['npz_path'])"
   ]
  },
  {
   "cell_type": "code",
   "execution_count": null,
   "id": "b22e8524-0a5f-4179-91a3-5a389749a894",
   "metadata": {},
   "outputs": [],
   "source": [
    "df['path_str_split'] = df['npz_path'].apply(lambda x: str(x)).str.split('\\\\')"
   ]
  },
  {
   "cell_type": "code",
   "execution_count": null,
   "id": "4bfa7773-74b8-48ca-bee3-68d8648bf0d6",
   "metadata": {},
   "outputs": [],
   "source": [
    "df['phase'] = df['path_str_split'].apply(lambda x: x[1]).astype(\"category\")"
   ]
  },
  {
   "cell_type": "code",
   "execution_count": null,
   "id": "b37d6bd2-bb5c-4bd1-8b37-cfcccd3706c6",
   "metadata": {},
   "outputs": [],
   "source": [
    "df['filename'] = df['path_str_split'].apply(lambda x: x[-1])"
   ]
  },
  {
   "cell_type": "code",
   "execution_count": null,
   "id": "9032a01a-76ee-43c7-9445-673ae706cde3",
   "metadata": {},
   "outputs": [],
   "source": [
    "df[['species', 'tree_id']] = df['filename'].str.split('_').apply(lambda x: pd.Series(x[:2]))"
   ]
  },
  {
   "cell_type": "code",
   "execution_count": null,
   "id": "377db8e8-6fa1-4cbc-941f-9c120ee0bc8e",
   "metadata": {},
   "outputs": [],
   "source": [
    "df['species'] = df['species'].astype('category')"
   ]
  },
  {
   "cell_type": "code",
   "execution_count": null,
   "id": "7de58ba7-a1b7-4286-a65a-7dd403c347f5",
   "metadata": {},
   "outputs": [],
   "source": [
    "df['tree_id'] = df['tree_id'].str.split('.').apply(lambda x: x[0]).astype(\"int\")"
   ]
  },
  {
   "cell_type": "code",
   "execution_count": null,
   "id": "3949fb8b-e3f0-4da2-976a-6130f2486359",
   "metadata": {},
   "outputs": [],
   "source": [
    "df_nv = df[['npz_path', 'phase', 'species', 'tree_id']]"
   ]
  },
  {
   "cell_type": "code",
   "execution_count": null,
   "id": "a8e9100a-fc3c-4785-a644-060e8ab24acf",
   "metadata": {},
   "outputs": [],
   "source": [
    "df_nv.head()"
   ]
  },
  {
   "cell_type": "code",
   "execution_count": null,
   "id": "ff0b2726-4b5d-4353-89eb-e30bbd3f22dd",
   "metadata": {},
   "outputs": [],
   "source": [
    "def get_glcm(filename_or_arr, is_filename=True):\n",
    "    if is_filename:\n",
    "        arr = np.load(filename_or_arr, allow_pickle=True)\n",
    "    else:\n",
    "        arr = filename_or_arr\n",
    "    rval = arr\n",
    "    return rval"
   ]
  },
  {
   "cell_type": "code",
   "execution_count": null,
   "id": "d82829ce-7ca7-4c54-91a4-e68486f9f010",
   "metadata": {},
   "outputs": [],
   "source": [
    "df['glcm'] = df['npz_path'].progress_apply(lambda x: get_glcm(x))"
   ]
  },
  {
   "cell_type": "code",
   "execution_count": null,
   "id": "4bd2fee7-b965-4676-8ac6-67dc643a550c",
   "metadata": {},
   "outputs": [],
   "source": [
    "df['glcm'].iloc[0].shape"
   ]
  },
  {
   "cell_type": "code",
   "execution_count": null,
   "id": "8747b12f-9c83-4021-a88c-4b059e564e2e",
   "metadata": {},
   "outputs": [],
   "source": [
    "#df = df[df['species'] != 'Cratoxylum Formosum']"
   ]
  },
  {
   "cell_type": "code",
   "execution_count": null,
   "id": "8d7b11c0-023d-4aa8-bdbc-1628b4a60078",
   "metadata": {},
   "outputs": [],
   "source": [
    "#df = df[df['glcm'].apply(lambda x: x.shape[0]) >= 64]\n",
    "#df = df[df['glcm'].apply(lambda x: x.shape[1]) >= 64]"
   ]
  },
  {
   "cell_type": "code",
   "execution_count": null,
   "id": "154fc0cb-ba60-460b-83e7-e9d136df2cb5",
   "metadata": {},
   "outputs": [],
   "source": [
    "len(df)"
   ]
  },
  {
   "cell_type": "markdown",
   "id": "a1c03a9c-6e8d-4854-9ef5-353c71684379",
   "metadata": {},
   "source": [
    "## Make sense of our channel ordering"
   ]
  },
  {
   "cell_type": "markdown",
   "id": "40118e5f-cb2a-42fd-b6ca-bcb31674e364",
   "metadata": {},
   "source": [
    "Wideband Red = 0, Wideband Green = 1, Wideband Blue = 2, RedEdge = 3, Blue = 4, NIR = 5, Red = 6, Green = 7\n",
    "\n",
    "NONE = 0, HOMOGENEITY = 1, CONTRAST = 2, ASM = 3, MEAN_I = 4, VAR_I = 5, CORRELATION = 6"
   ]
  },
  {
   "cell_type": "code",
   "execution_count": null,
   "id": "62412027-be6b-450d-8267-179aa6912e1c",
   "metadata": {},
   "outputs": [],
   "source": [
    "bands = ['wr', 'wg', 'wb', 're', 'b', 'ni', 'r', 'g']"
   ]
  },
  {
   "cell_type": "code",
   "execution_count": null,
   "id": "3b62f852-0ef4-44d7-bc5d-db14b8051592",
   "metadata": {},
   "outputs": [],
   "source": [
    "filters = ['none', 'homogeneity', 'contrast', 'asm', 'mean', 'var', 'correlation']"
   ]
  },
  {
   "cell_type": "markdown",
   "id": "9dc9d8eb-2570-42c5-96bf-e243487e8f8d",
   "metadata": {},
   "source": [
    "## Duplicate how Aaron did it"
   ]
  },
  {
   "cell_type": "markdown",
   "id": "b9e885ba-ce90-48b2-a402-750854b9af41",
   "metadata": {},
   "source": [
    "### Feature selection"
   ]
  },
  {
   "cell_type": "markdown",
   "id": "562afc20-60f1-47e5-bbd5-3b4e8d073538",
   "metadata": {},
   "source": [
    "Bands used: Red-Edge, Narrowband Blue, NIR, Narrowband Red, Narrowband Green"
   ]
  },
  {
   "cell_type": "markdown",
   "id": "c0246614-4bd9-432d-aac7-80db0c383c16",
   "metadata": {},
   "source": [
    "GLCM filters used: None, GLCM Mean."
   ]
  },
  {
   "cell_type": "code",
   "execution_count": null,
   "id": "54d6158a-1a97-4004-abda-8e32f4460d89",
   "metadata": {},
   "outputs": [],
   "source": [
    "selected = list(itertools.product(('none', 'mean'),\n",
    "                                  ('re', 'b', 'nir', 'r', 'g')))"
   ]
  },
  {
   "cell_type": "code",
   "execution_count": null,
   "id": "f97bdab1-1149-412d-b7f9-29c670d75a03",
   "metadata": {},
   "outputs": [],
   "source": [
    "selected = [(i[1], i[0]) for i in selected]"
   ]
  },
  {
   "cell_type": "code",
   "execution_count": null,
   "id": "b9875a99-fddb-44c4-8bec-9a9da26cb81d",
   "metadata": {},
   "outputs": [],
   "source": [
    "selected"
   ]
  },
  {
   "cell_type": "code",
   "execution_count": null,
   "id": "c81cbad4-aea5-4773-92d0-641c090cacd1",
   "metadata": {},
   "outputs": [],
   "source": [
    "def aaron_feature_selection(arr):\n",
    "    data = np.zeros((arr.shape[0], arr.shape[1], 10))\n",
    "    data[:,:,0] = arr[:,:,3,0]\n",
    "    data[:,:,1] = arr[:,:,4,0]\n",
    "    data[:,:,2] = arr[:,:,5,0]\n",
    "    data[:,:,3] = arr[:,:,6,0]\n",
    "    data[:,:,4] = arr[:,:,7,0]\n",
    "    data[:,:,5] = arr[:,:,3,4]\n",
    "    data[:,:,6] = arr[:,:,4,4]\n",
    "    data[:,:,7] = arr[:,:,5,4]    \n",
    "    data[:,:,8] = arr[:,:,6,4]\n",
    "    data[:,:,9] = arr[:,:,7,4]\n",
    "    return data"
   ]
  },
  {
   "cell_type": "code",
   "execution_count": null,
   "id": "36eaab72-b726-420b-be73-44cf5baf3106",
   "metadata": {},
   "outputs": [],
   "source": [
    "df['sel_features'] = df['glcm'].progress_apply(aaron_feature_selection)"
   ]
  },
  {
   "cell_type": "code",
   "execution_count": null,
   "id": "e3bbe35c-5ad0-45a2-a8f5-d430bb85afde",
   "metadata": {},
   "outputs": [],
   "source": [
    "fig, ax =  plt.subplots(2, 5, figsize=(5.6*5, 4.8*2))\n",
    "for ax_, idx, title in zip(ax.flatten(), range(len(ax.flatten())), selected):\n",
    "    img = ax_.imshow(df['sel_features'].iloc[0][:,:,idx])\n",
    "    ax_.set_title(title)\n",
    "    plt.colorbar(img)"
   ]
  },
  {
   "cell_type": "code",
   "execution_count": null,
   "id": "e231b8e1-edbc-4de9-887d-041f0b7f7b94",
   "metadata": {},
   "outputs": [],
   "source": [
    "df[['species', 'phase']].iloc[0]"
   ]
  },
  {
   "cell_type": "code",
   "execution_count": null,
   "id": "bdb79634-d6e2-4545-b1dd-2f22d4d94326",
   "metadata": {},
   "outputs": [],
   "source": [
    "def crop_center(img,cropx,cropy):\n",
    "    y,x = img.shape[:2]\n",
    "    if y < cropy or x < cropx:\n",
    "        return float('NaN')\n",
    "    startx = x//2-(cropx//2)\n",
    "    starty = y//2-(cropy//2)    \n",
    "    return img[starty:starty+cropy,startx:startx+cropx]"
   ]
  },
  {
   "cell_type": "code",
   "execution_count": null,
   "id": "c79e449f-d9d2-46da-8e82-e9a80acf591e",
   "metadata": {},
   "outputs": [],
   "source": [
    "df_croppable = df['sel_features'][df['sel_features'].apply(lambda x: True if x.shape[0] > 64 and x.shape[1] > 64 else False)]"
   ]
  },
  {
   "cell_type": "code",
   "execution_count": null,
   "id": "0044f2e3-b1e9-4ad4-b669-588e42c8c658",
   "metadata": {},
   "outputs": [],
   "source": [
    "len(df_croppable)"
   ]
  },
  {
   "cell_type": "code",
   "execution_count": null,
   "id": "033198b5-0433-4586-a047-cf2bb1f9a4fa",
   "metadata": {},
   "outputs": [],
   "source": [
    "catted = np.concatenate(list(df_croppable\\\n",
    "                                 .apply(lambda x: crop_center(x, 64, 64))\\\n",
    "                                 .apply(lambda x: x.reshape(-1, 10))))"
   ]
  },
  {
   "cell_type": "code",
   "execution_count": null,
   "id": "d5e631ad-a4e5-4862-b2d1-1a0c1bcb8fa6",
   "metadata": {},
   "outputs": [],
   "source": [
    "catted = pd.DataFrame(catted)"
   ]
  },
  {
   "cell_type": "code",
   "execution_count": null,
   "id": "0a87b160-5813-4107-bf78-4dffc724b5b6",
   "metadata": {},
   "outputs": [],
   "source": [
    "catted.columns = selected"
   ]
  },
  {
   "cell_type": "code",
   "execution_count": null,
   "id": "c1d2217b-ee41-48a4-9db8-8b4051cb0797",
   "metadata": {},
   "outputs": [],
   "source": [
    "catted = pd.melt(catted)"
   ]
  },
  {
   "cell_type": "code",
   "execution_count": null,
   "id": "2004267b-1b01-4394-8294-087546760039",
   "metadata": {},
   "outputs": [],
   "source": [
    "import warnings\n",
    "warnings.filterwarnings(\"ignore\", \"is_categorical_dtype\")\n",
    "warnings.filterwarnings(\"ignore\", \"use_inf_as_na\")"
   ]
  },
  {
   "cell_type": "code",
   "execution_count": null,
   "id": "74a7df28-553e-4334-9073-b4c3f5200514",
   "metadata": {},
   "outputs": [],
   "source": [
    "fig, ax = plt.subplots(1, 2, figsize=(5.6*2, 4.8))\n",
    "sns.histplot(catted,\n",
    "             x='value',\n",
    "             hue='variable',\n",
    "             bins=256,\n",
    "             ax=ax[0])\n",
    "sns.kdeplot(catted,\n",
    "            x='value',\n",
    "            hue='variable',\n",
    "            ax=ax[1])"
   ]
  },
  {
   "cell_type": "code",
   "execution_count": null,
   "id": "8382c7cd-10f3-428f-99c1-c1634bd9cb52",
   "metadata": {},
   "outputs": [],
   "source": [
    "catted = np.concatenate(list(df_croppable.iloc[:1]\\\n",
    "                                 .apply(lambda x: crop_center(x, 64, 64))\\\n",
    "                                 .apply(lambda x: x.reshape(-1, 10))))"
   ]
  },
  {
   "cell_type": "code",
   "execution_count": null,
   "id": "dedd5f18-38e2-4168-8807-1e5db7adf58a",
   "metadata": {},
   "outputs": [],
   "source": [
    "catted = pd.DataFrame(catted)"
   ]
  },
  {
   "cell_type": "code",
   "execution_count": null,
   "id": "d313475e-d465-465b-a4cd-45ab7ebcc82c",
   "metadata": {},
   "outputs": [],
   "source": [
    "catted.columns = selected"
   ]
  },
  {
   "cell_type": "code",
   "execution_count": null,
   "id": "29b70dae-feb1-461e-91d2-3492356f46ba",
   "metadata": {},
   "outputs": [],
   "source": [
    "catted = pd.melt(catted)"
   ]
  },
  {
   "cell_type": "code",
   "execution_count": null,
   "id": "505512e5-af17-41be-a57c-880b0e123aee",
   "metadata": {},
   "outputs": [],
   "source": [
    "fig, ax = plt.subplots(1, 2, figsize=(5.6*2, 4.8))\n",
    "sns.histplot(catted.iloc[:64*64*10],\n",
    "             x='value',\n",
    "             hue='variable',\n",
    "             bins=256,\n",
    "             ax=ax[0])\n",
    "sns.kdeplot(catted.iloc[:64*64*10],\n",
    "            x='value',\n",
    "            hue='variable',\n",
    "            ax=ax[1])"
   ]
  },
  {
   "cell_type": "markdown",
   "id": "ae500f6e-ee22-4bb7-9785-ea06da1c94d5",
   "metadata": {},
   "source": [
    "### Principal Components Analysis -- One image"
   ]
  },
  {
   "cell_type": "code",
   "execution_count": null,
   "id": "3f855de7-af37-4bee-9f26-3fd940a53dd0",
   "metadata": {},
   "outputs": [],
   "source": [
    "from sklearn.decomposition import PCA"
   ]
  },
  {
   "cell_type": "code",
   "execution_count": null,
   "id": "f93ca110-3808-489d-bc1c-f1f8d40f8f02",
   "metadata": {},
   "outputs": [],
   "source": [
    "pcas = []\n",
    "\n",
    "arr = df['sel_features'].iloc[0]\n",
    "\n",
    "arr_filt = np.zeros((arr.shape[0], arr.shape[1], 10))\n",
    "\n",
    "for j in range(len(selected)):\n",
    "    #Applying to red channel and then applying inverse transform to transformed array.\n",
    "    pca = PCA(5)\n",
    "    pca_ = pca.fit_transform(arr[:,:,j])\n",
    "    inverted = pca.inverse_transform(pca_)\n",
    "    arr_filt[:,:,j] = inverted\n",
    "    pcas.append(pca)"
   ]
  },
  {
   "cell_type": "code",
   "execution_count": null,
   "id": "6668882e-8356-45cb-8892-c10784d1c496",
   "metadata": {},
   "outputs": [],
   "source": [
    "evrs = pd.DataFrame([i.explained_variance_ratio_ for i in pcas])"
   ]
  },
  {
   "cell_type": "code",
   "execution_count": null,
   "id": "720a97ce-608b-4d48-820a-3d83f08421d2",
   "metadata": {},
   "outputs": [],
   "source": [
    "evrs = evrs.reset_index()\n",
    "evrs['index'] = selected\n",
    "evrs.columns = ['feature'] + list(evrs.columns)[1:]"
   ]
  },
  {
   "cell_type": "code",
   "execution_count": null,
   "id": "9554a191-c144-4338-b341-711656f2e8e5",
   "metadata": {},
   "outputs": [],
   "source": [
    "evrs = pd.melt(evrs, id_vars=['feature'], var_name='component #', value_name='explained variance')"
   ]
  },
  {
   "cell_type": "code",
   "execution_count": null,
   "id": "738fd625-eb87-4f76-93de-f779260636ea",
   "metadata": {},
   "outputs": [],
   "source": [
    "evrs['cum. EV'] = np.cumsum(evrs['explained variance'])"
   ]
  },
  {
   "cell_type": "code",
   "execution_count": null,
   "id": "abbd71bf-25e1-4dba-88c3-808a72b4c70d",
   "metadata": {},
   "outputs": [],
   "source": [
    "selected_ordered = evrs[evrs['component #'] == 0].sort_values('cum. EV', ascending=False)['feature']"
   ]
  },
  {
   "cell_type": "code",
   "execution_count": null,
   "id": "456a582e-9ee9-469d-8603-e0a93cef1a6a",
   "metadata": {},
   "outputs": [],
   "source": [
    "sns.lineplot(evrs,\n",
    "             x='component #',\n",
    "             y='cum. EV',\n",
    "             hue='feature',\n",
    "             hue_order=selected_ordered)"
   ]
  },
  {
   "cell_type": "code",
   "execution_count": null,
   "id": "f11f3de9-4736-4a78-a11b-f8de0dd4cafa",
   "metadata": {},
   "outputs": [],
   "source": [
    "fig, ax = plt.subplots(2, 10, figsize=(5.6*10, 4.8*2))\n",
    "for col, col_idx in zip(ax.T, range(len(ax.T))):\n",
    "    corrected_index = selected.index(selected_ordered[col_idx])\n",
    "    col[0].imshow(arr[:,:,corrected_index])\n",
    "    col[1].imshow(arr_filt[:,:,corrected_index])\n",
    "    col[0].set_title(selected[corrected_index])\n",
    "ax[0][0].set_ylabel(\"pre-pca filtering\")\n",
    "ax[1][0].set_ylabel(\"post-pca filtering\")"
   ]
  },
  {
   "cell_type": "markdown",
   "id": "df775ba1-0d41-416d-8639-54933d7574d5",
   "metadata": {},
   "source": [
    "## Do the PCA on all our data"
   ]
  },
  {
   "cell_type": "code",
   "execution_count": null,
   "id": "883b9d81-aa52-47b8-8813-dd9d969e87bf",
   "metadata": {},
   "outputs": [],
   "source": [
    "def aaron_pca(arr):\n",
    "    arr_filt = np.zeros((arr.shape[0], arr.shape[1], 10))\n",
    "    for j in range(len(selected)):\n",
    "        #Applying to red channel and then applying inverse transform to transformed array.\n",
    "        pca = PCA(5)\n",
    "        pca_ = pca.fit_transform(arr[:,:,j])\n",
    "        inverted = pca.inverse_transform(pca_)\n",
    "        arr_filt[:,:,j] = inverted\n",
    "    return arr_filt"
   ]
  },
  {
   "cell_type": "code",
   "execution_count": null,
   "id": "45bc0726-97a9-46fe-a835-f73295bdb9cc",
   "metadata": {},
   "outputs": [],
   "source": [
    "df['post_pca'] = df['sel_features'].progress_apply(aaron_pca)"
   ]
  },
  {
   "cell_type": "code",
   "execution_count": null,
   "id": "a8cb030c-9b70-4db9-bca5-8eaa9eea5f17",
   "metadata": {},
   "outputs": [],
   "source": [
    "plt.imshow(df['post_pca'].iloc[2][:,:,0])"
   ]
  },
  {
   "cell_type": "markdown",
   "id": "83d345e1-a13d-43bf-b3bf-8898174d9c52",
   "metadata": {},
   "source": [
    "## Viz. our clusterings with resizing, no PCA, no whitening"
   ]
  },
  {
   "cell_type": "code",
   "execution_count": null,
   "id": "71f5c48d-8a7f-4e27-b8b4-7172f8e889ea",
   "metadata": {},
   "outputs": [],
   "source": [
    "df_resizing = pd.DataFrame(\n",
    "    df['sel_features'],\n",
    "    index = df.index)\n",
    "df_resizing.columns = ['input']\n",
    "\n",
    "df_resizing['resized'] = df_resizing['input'].progress_apply(\n",
    "    lambda x:\n",
    "        np.stack([cv2.resize(x[:,:,i], dsize=(250, 250), interpolation=cv2.INTER_CUBIC) for i in range(x.shape[-1])],\n",
    "                 axis=-1))\n",
    "\n",
    "fig, ax = plt.subplots(2, len(df), figsize=(5.6*len(df), 4.8*2))\n",
    "for col, col_idx in zip(ax.T, range(len(ax.T))):\n",
    "    col[0].imshow(df['sel_features'].iloc[col_idx][:,:,3])\n",
    "    col[1].imshow(df_resizing['resized'].iloc[col_idx][:,:,3])\n",
    "    col[0].set_title('{}, {}'.format(df.iloc[col_idx]['phase'],\n",
    "                                     df.iloc[col_idx]['species']))\n",
    "ax[0][0].set_ylabel(\"pre-resizing\")\n",
    "ax[1][0].set_ylabel(\"post-resizing\")\n",
    "\n",
    "df_resizing['embeddings'] = df_resizing['resized'].progress_apply(\n",
    "    lambda x:\n",
    "        tf.math.l2_normalize(fm(x.reshape((-1, *x.shape))), axis=1, epsilon=1e-10))\n",
    "\n",
    "df_resizing[['species', 'phase']] = df[['species', 'phase']]"
   ]
  },
  {
   "cell_type": "code",
   "execution_count": null,
   "id": "886c6da5-eb5f-4fe1-a29c-82ae567ecde5",
   "metadata": {},
   "outputs": [],
   "source": [
    "from umap import UMAP\n",
    "reducer = UMAP(n_components=2,\n",
    "               metric='euclidean',\n",
    "               n_neighbors=3,\n",
    "               min_dist=0.4)\n",
    "\n",
    "df_resizing['embeddings'].iloc[0].shape\n",
    "\n",
    "X = reducer.fit_transform(np.stack(list(df_resizing['embeddings'].apply(lambda x: x[0]))))\n",
    "X_train =\\\n",
    "    reducer.fit_transform(np.stack(list(df_resizing[df_resizing['phase'] == '10May2021']['embeddings'].apply(lambda x: x[0]))))\n",
    "X_test =\\\n",
    "    reducer.fit_transform(np.stack(list(df_resizing[df_resizing['phase'] == '18Dec2020']['embeddings'].apply(lambda x: x[0]))))\n",
    "\n",
    "species = df['species'].unique()\n",
    "\n",
    "fig, ax = plt.subplots(2, 2, figsize=(5.6*2, 4.8*2))\n",
    "sns.scatterplot(\n",
    "    df_resizing,\n",
    "    x=X[:,0], y=X[:,1],\n",
    "    hue='phase',\n",
    "    palette='tab20',\n",
    "    s=12,\n",
    "    legend=True,\n",
    "    ax=ax[0][0])\n",
    "sns.scatterplot(\n",
    "    df_resizing,\n",
    "    x=X[:,0], y=X[:,1],\n",
    "    hue='species', hue_order=species,\n",
    "    palette='tab20',\n",
    "    s=12,\n",
    "    legend=True,\n",
    "    ax=ax[0][1])\n",
    "sns.scatterplot(\n",
    "    df_resizing[df_resizing['phase'] == '10May2021'],\n",
    "    x=X_train[:,0], y=X_train[:,1],\n",
    "    hue='species', hue_order=species,\n",
    "    palette='tab20',\n",
    "    s=12,\n",
    "    legend=False,\n",
    "    ax=ax[1][0])\n",
    "sns.scatterplot(\n",
    "    df_resizing[df_resizing['phase'] == '18Dec2020'],\n",
    "    x=X_test[:,0], y=X_test[:,1],\n",
    "    hue='species', hue_order=species,\n",
    "    palette='tab20',\n",
    "    s=12,\n",
    "    legend=False,\n",
    "    ax=ax[1][1])\n",
    "sns.move_legend(ax[0][0], \"upper left\", bbox_to_anchor=(2.2, 1))\n",
    "sns.move_legend(ax[0][1], \"upper left\", bbox_to_anchor=(1, 0.77))\n",
    "ax[0][0].set_title(\"UMAP Train and Test, capture shown\")\n",
    "ax[0][1].set_title(\"UMAP Train and Test, species shown\")\n",
    "ax[1][0].set_title(\"UMAP Train/10May2021, species shown\")\n",
    "ax[1][1].set_title(\"UMAP Test/18Dec2021, species shown\")\n",
    "#fig.tight_layout()"
   ]
  },
  {
   "cell_type": "markdown",
   "id": "ab7e927b-4de7-402d-856b-7f6ce77ed4ee",
   "metadata": {},
   "source": [
    "## Viz. our clusterings with resizing and PCA, no whitening"
   ]
  },
  {
   "cell_type": "code",
   "execution_count": null,
   "id": "349a0cc7-d049-4056-a30d-359736538610",
   "metadata": {},
   "outputs": [],
   "source": [
    "df_resize_pca = pd.DataFrame(\n",
    "    df['post_pca'],\n",
    "    index = df.index)\n",
    "df_resize_pca.columns = ['input']\n",
    "\n",
    "df_resize_pca['resized'] = df_resize_pca['input'].progress_apply(\n",
    "    lambda x:\n",
    "        np.stack([cv2.resize(x[:,:,i], dsize=(250, 250), interpolation=cv2.INTER_CUBIC) for i in range(x.shape[-1])],\n",
    "                 axis=-1))\n",
    "\n",
    "fig, ax = plt.subplots(2, len(df), figsize=(5.6*len(df), 4.8*2))\n",
    "for col, col_idx in zip(ax.T, range(len(ax.T))):\n",
    "    col[0].imshow(df['post_pca'].iloc[col_idx][:,:,3])\n",
    "    col[1].imshow(df_resize_pca['resized'].iloc[col_idx][:,:,3])\n",
    "    col[0].set_title('{}, {}'.format(df.iloc[col_idx]['phase'],\n",
    "                                     df.iloc[col_idx]['species']))\n",
    "ax[0][0].set_ylabel(\"pre-resize_pca\")\n",
    "ax[1][0].set_ylabel(\"post-resize_pca\")\n",
    "\n",
    "df_resize_pca['embeddings'] = df_resize_pca['resized'].progress_apply(\n",
    "    lambda x:\n",
    "        tf.math.l2_normalize(fm(x.reshape((-1, *x.shape))), axis=1, epsilon=1e-10))\n",
    "\n",
    "df_resize_pca[['species', 'phase']] = df[['species', 'phase']]"
   ]
  },
  {
   "cell_type": "code",
   "execution_count": null,
   "id": "c027ded8-6236-454b-aef7-9466d3419c2b",
   "metadata": {
    "jupyter": {
     "source_hidden": true
    }
   },
   "outputs": [],
   "source": [
    "from umap import UMAP\n",
    "reducer = UMAP(n_components=2,\n",
    "               metric='euclidean',\n",
    "               n_neighbors=3,\n",
    "               min_dist=0.4)\n",
    "\n",
    "df_resize_pca['embeddings'].iloc[0].shape\n",
    "\n",
    "X = reducer.fit_transform(np.stack(list(df_resize_pca['embeddings'].apply(lambda x: x[0]))))\n",
    "X_train =\\\n",
    "    reducer.fit_transform(np.stack(list(df_resize_pca[df_resize_pca['phase'] == '10May2021']['embeddings'].apply(lambda x: x[0]))))\n",
    "X_test =\\\n",
    "    reducer.fit_transform(np.stack(list(df_resize_pca[df_resize_pca['phase'] == '18Dec2020']['embeddings'].apply(lambda x: x[0]))))\n",
    "\n",
    "species = df['species'].unique()\n",
    "\n",
    "fig, ax = plt.subplots(2, 2, figsize=(5.6*2, 4.8*2))\n",
    "sns.scatterplot(\n",
    "    df_resize_pca,\n",
    "    x=X[:,0], y=X[:,1],\n",
    "    hue='phase',\n",
    "    palette='tab20',\n",
    "    s=12,\n",
    "    legend=True,\n",
    "    ax=ax[0][0])\n",
    "sns.scatterplot(\n",
    "    df_resize_pca,\n",
    "    x=X[:,0], y=X[:,1],\n",
    "    hue='species', hue_order=species,\n",
    "    palette='tab20',\n",
    "    s=12,\n",
    "    legend=True,\n",
    "    ax=ax[0][1])\n",
    "sns.scatterplot(\n",
    "    df_resize_pca[df_resize_pca['phase'] == '10May2021'],\n",
    "    x=X_train[:,0], y=X_train[:,1],\n",
    "    hue='species', hue_order=species,\n",
    "    palette='tab20',\n",
    "    s=12,\n",
    "    legend=False,\n",
    "    ax=ax[1][0])\n",
    "sns.scatterplot(\n",
    "    df_resize_pca[df_resize_pca['phase'] == '18Dec2020'],\n",
    "    x=X_test[:,0], y=X_test[:,1],\n",
    "    hue='species', hue_order=species,\n",
    "    palette='tab20',\n",
    "    s=12,\n",
    "    legend=False,\n",
    "    ax=ax[1][1])\n",
    "sns.move_legend(ax[0][0], \"upper left\", bbox_to_anchor=(2.2, 1))\n",
    "sns.move_legend(ax[0][1], \"upper left\", bbox_to_anchor=(1, 0.77))\n",
    "ax[0][0].set_title(\"UMAP Train and Test, capture shown\")\n",
    "ax[0][1].set_title(\"UMAP Train and Test, species shown\")\n",
    "ax[1][0].set_title(\"UMAP Train/10May2021, species shown\")\n",
    "ax[1][1].set_title(\"UMAP Test/18Dec2021, species shown\")\n",
    "#fig.tight_layout()"
   ]
  },
  {
   "cell_type": "markdown",
   "id": "bb613790-da1b-4bf1-a390-21f88049535f",
   "metadata": {},
   "source": [
    "## Viz. our clusterings with cropping and PCA, no whitening"
   ]
  },
  {
   "cell_type": "code",
   "execution_count": null,
   "id": "cca2f4a4-78b8-4eb5-b18a-0731a78d99d2",
   "metadata": {},
   "outputs": [],
   "source": [
    "def crop_center(img,cropx,cropy):\n",
    "    y,x = img.shape[:2]\n",
    "    if y < cropy or x < cropx:\n",
    "        return float('NaN')\n",
    "    startx = x//2-(cropx//2)\n",
    "    starty = y//2-(cropy//2)    \n",
    "    return img[starty:starty+cropy,startx:startx+cropx]"
   ]
  },
  {
   "cell_type": "code",
   "execution_count": null,
   "id": "2b69c607-17e6-4834-ba65-6c6fc50cd82a",
   "metadata": {},
   "outputs": [],
   "source": [
    "df_crop_pca = pd.DataFrame(\n",
    "    df['post_pca'],\n",
    "    index = df.index)\n",
    "df_crop_pca.columns = ['input']\n",
    "\n",
    "df_crop_pca = df_crop_pca[df_crop_pca['input'].apply(lambda x: True if x.shape[0] > 64 and x.shape[1] > 64 else False)]\n",
    "\n",
    "df_crop_pca['cropped'] = df_crop_pca['input'].progress_apply(\n",
    "    lambda x: crop_center(x, 64, 64))\n",
    "df_crop_pca['cropped'] = df_crop_pca['cropped'].progress_apply(\n",
    "    lambda x:\n",
    "        np.stack([cv2.resize(x[:,:,i], dsize=(250, 250), interpolation=cv2.INTER_CUBIC) for i in range(x.shape[-1])],\n",
    "                 axis=-1))\n",
    "\n",
    "fig, ax = plt.subplots(2, len(df), figsize=(5.6*len(df), 4.8*2))\n",
    "for col, col_idx in zip(ax.T, range(len(ax.T))):\n",
    "    iloc_to_loc = df['post_pca'].index[col_idx]\n",
    "    col[0].imshow(df['post_pca'].loc[iloc_to_loc][:,:,3])\n",
    "    if iloc_to_loc in df_crop_pca.index:\n",
    "        col[1].imshow(df_crop_pca['cropped'].loc[iloc_to_loc][:,:,3])\n",
    "    col[0].set_title('{}, {}'.format(df.loc[iloc_to_loc]['phase'],\n",
    "                                     df.loc[iloc_to_loc]['species']))\n",
    "ax[0][0].set_ylabel(\"pre-crop_pca\")\n",
    "ax[1][0].set_ylabel(\"post-crop_pca\")\n",
    "\n",
    "df_crop_pca['embeddings'] = df_crop_pca['cropped'].progress_apply(\n",
    "    lambda x:\n",
    "        tf.math.l2_normalize(fm(x.reshape((-1, *x.shape))), axis=1, epsilon=1e-10))\n",
    "\n",
    "df_crop_pca[['species', 'phase']] = df[['species', 'phase']]"
   ]
  },
  {
   "cell_type": "code",
   "execution_count": null,
   "id": "c96a7217-6905-4fa1-b8d6-3e1ea6ccb8a6",
   "metadata": {
    "jupyter": {
     "source_hidden": true
    }
   },
   "outputs": [],
   "source": [
    "from umap import UMAP\n",
    "reducer = UMAP(n_components=2,\n",
    "               metric='euclidean',\n",
    "               n_neighbors=3,\n",
    "               min_dist=0.4)\n",
    "\n",
    "df_crop_pca['embeddings'].iloc[0].shape\n",
    "\n",
    "X = reducer.fit_transform(np.stack(list(df_crop_pca['embeddings'].apply(lambda x: x[0]))))\n",
    "X_train =\\\n",
    "    reducer.fit_transform(np.stack(list(df_crop_pca[df_crop_pca['phase'] == '10May2021']['embeddings'].apply(lambda x: x[0]))))\n",
    "X_test =\\\n",
    "    reducer.fit_transform(np.stack(list(df_crop_pca[df_crop_pca['phase'] == '18Dec2020']['embeddings'].apply(lambda x: x[0]))))\n",
    "\n",
    "species = df['species'].unique()\n",
    "\n",
    "fig, ax = plt.subplots(2, 2, figsize=(5.6*2, 4.8*2))\n",
    "sns.scatterplot(\n",
    "    df_crop_pca,\n",
    "    x=X[:,0], y=X[:,1],\n",
    "    hue='phase',\n",
    "    palette='tab20',\n",
    "    s=12,\n",
    "    legend=True,\n",
    "    ax=ax[0][0])\n",
    "sns.scatterplot(\n",
    "    df_crop_pca,\n",
    "    x=X[:,0], y=X[:,1],\n",
    "    hue='species', hue_order=species,\n",
    "    palette='tab20',\n",
    "    s=12,\n",
    "    legend=True,\n",
    "    ax=ax[0][1])\n",
    "sns.scatterplot(\n",
    "    df_crop_pca[df_crop_pca['phase'] == '10May2021'],\n",
    "    x=X_train[:,0], y=X_train[:,1],\n",
    "    hue='species', hue_order=species,\n",
    "    palette='tab20',\n",
    "    s=12,\n",
    "    legend=False,\n",
    "    ax=ax[1][0])\n",
    "sns.scatterplot(\n",
    "    df_crop_pca[df_crop_pca['phase'] == '18Dec2020'],\n",
    "    x=X_test[:,0], y=X_test[:,1],\n",
    "    hue='species', hue_order=species,\n",
    "    palette='tab20',\n",
    "    s=12,\n",
    "    legend=False,\n",
    "    ax=ax[1][1])\n",
    "sns.move_legend(ax[0][0], \"upper left\", bbox_to_anchor=(2.2, 1))\n",
    "sns.move_legend(ax[0][1], \"upper left\", bbox_to_anchor=(1, 0.77))\n",
    "ax[0][0].set_title(\"UMAP Train and Test, capture shown\")\n",
    "ax[0][1].set_title(\"UMAP Train and Test, species shown\")\n",
    "ax[1][0].set_title(\"UMAP Train/10May2021, species shown\")\n",
    "ax[1][1].set_title(\"UMAP Test/18Dec2021, species shown\")\n",
    "#fig.tight_layout()"
   ]
  },
  {
   "cell_type": "markdown",
   "id": "7623b593-9e35-4b59-ab44-69a59fc0df75",
   "metadata": {},
   "source": [
    "## Implement a random crop-and-stretch transformation"
   ]
  },
  {
   "cell_type": "code",
   "execution_count": null,
   "id": "072e1976-5698-45d8-98c8-2e5ebc98b7db",
   "metadata": {},
   "outputs": [],
   "source": [
    "plt.imshow(df.iloc[0]['sel_features'][:,:,3])"
   ]
  },
  {
   "cell_type": "code",
   "execution_count": null,
   "id": "285d5857-54a8-49df-996c-8d24284d211e",
   "metadata": {},
   "outputs": [],
   "source": [
    "transform = torchvision.transforms.RandomResizedCrop(\n",
    "    size=(250,250),\n",
    "    scale=((64/250)**2,1),\n",
    "    ratio=(1/2, 2),\n",
    "    interpolation=torchvision.transforms.InterpolationMode.BICUBIC,\n",
    "    antialias=True\n",
    ")"
   ]
  },
  {
   "cell_type": "code",
   "execution_count": null,
   "id": "61e6bd10-d760-4a67-ba3d-f0f4fc8b821f",
   "metadata": {},
   "outputs": [],
   "source": [
    "pre_trans = df.iloc[0]['sel_features']\n",
    "post_trans =\\\n",
    "    [rearrange(\n",
    "        transform(torch.Tensor(rearrange(pre_trans, 'h w c -> c h w'))).numpy(),\n",
    "        'c h w -> h w c')\n",
    "     for i in range(10)]"
   ]
  },
  {
   "cell_type": "code",
   "execution_count": null,
   "id": "202e3370-d55a-4337-994b-34898ca2af29",
   "metadata": {},
   "outputs": [],
   "source": [
    "fig, ax = plt.subplots(2, 5, figsize=(5.6*5, 4.8*2))\n",
    "for ax_, idx in zip(ax.flatten(), range(len(ax.flatten()))):\n",
    "    ax_.imshow(post_trans[idx][:,:,3])"
   ]
  },
  {
   "cell_type": "markdown",
   "id": "841e1dca-6efe-4f78-b398-a9f6cee50f0f",
   "metadata": {},
   "source": [
    "## Apply it to our data"
   ]
  },
  {
   "cell_type": "code",
   "execution_count": null,
   "id": "ac6ba4fe-cc03-4a91-8a54-39ed392f6fd7",
   "metadata": {},
   "outputs": [],
   "source": [
    "def rand_crop_stretch(pre_trans, n):\n",
    "    return\\\n",
    "        [rearrange(\n",
    "            transform(torch.Tensor(rearrange(pre_trans, 'h w c -> c h w'))).numpy(),\n",
    "            'c h w -> h w c')\n",
    "         for i in range(n)]"
   ]
  },
  {
   "cell_type": "code",
   "execution_count": null,
   "id": "472d9b7c-3ae8-4562-b317-223567d80824",
   "metadata": {},
   "outputs": [],
   "source": [
    "def embed(x):\n",
    "    return tf.math.l2_normalize(fm(x.reshape((-1, *x.shape))), axis=1, epsilon=1e-10)"
   ]
  },
  {
   "cell_type": "code",
   "execution_count": null,
   "id": "224689f5-8203-4b48-85cc-5d17c51ce04b",
   "metadata": {},
   "outputs": [],
   "source": [
    "df_augment = df.copy()"
   ]
  },
  {
   "cell_type": "code",
   "execution_count": null,
   "id": "31edfd37-338c-404c-84bb-17440c0a4f49",
   "metadata": {},
   "outputs": [],
   "source": [
    "df_augment['augment'] = df['post_pca'].progress_apply(lambda x: rand_crop_stretch(x, 20))"
   ]
  },
  {
   "cell_type": "code",
   "execution_count": null,
   "id": "b0eb5a42-33e7-4efb-915f-eb725c82e3cd",
   "metadata": {},
   "outputs": [],
   "source": [
    "df_augment = df_augment.explode('augment')"
   ]
  },
  {
   "cell_type": "code",
   "execution_count": null,
   "id": "acda3a09-791e-4999-a2c7-3cb1d45f3bc0",
   "metadata": {},
   "outputs": [],
   "source": [
    "df_augment['embeddings'] = df_augment['augment'].progress_apply(embed)"
   ]
  },
  {
   "cell_type": "code",
   "execution_count": null,
   "id": "6ce5cb84-7d4e-40db-aeb7-dde60b158278",
   "metadata": {},
   "outputs": [],
   "source": [
    "plt.imshow(df.iloc[0]['post_pca'][:,:,3])"
   ]
  },
  {
   "cell_type": "code",
   "execution_count": null,
   "id": "7a0271ad-a1c1-4a81-833e-b1e5b8c901a4",
   "metadata": {},
   "outputs": [],
   "source": [
    "post_trans = list(df_augment.iloc[:20]['augment'])"
   ]
  },
  {
   "cell_type": "code",
   "execution_count": null,
   "id": "c22c8842-af70-41dd-8669-2f928e3ca4c7",
   "metadata": {},
   "outputs": [],
   "source": [
    "fig, ax = plt.subplots(2, 5, figsize=(5.6*5, 4.8*2))\n",
    "for ax_, idx in zip(ax.flatten(), range(len(ax.flatten()))):\n",
    "    ax_.imshow(post_trans[idx][:,:,3])"
   ]
  },
  {
   "cell_type": "code",
   "execution_count": null,
   "id": "c91ab2b6-5177-43bc-a580-1e56bce922ea",
   "metadata": {},
   "outputs": [],
   "source": [
    "from umap import UMAP\n",
    "reducer = UMAP(n_components=2,\n",
    "               metric='euclidean',\n",
    "               n_neighbors=20,\n",
    "               min_dist=0.1)\n",
    "\n",
    "df_augment['embeddings'].iloc[0].shape\n",
    "\n",
    "X = reducer.fit_transform(np.stack(list(df_augment['embeddings'].apply(lambda x: x[0]))))\n",
    "X_train =\\\n",
    "    reducer.fit_transform(np.stack(list(df_augment[df_augment['phase'] == '10May2021']['embeddings'].apply(lambda x: x[0]))))\n",
    "X_test =\\\n",
    "    reducer.fit_transform(np.stack(list(df_augment[df_augment['phase'] == '18Dec2020']['embeddings'].apply(lambda x: x[0]))))\n",
    "\n",
    "species = df['species'].unique()\n",
    "\n",
    "fig, ax = plt.subplots(2, 2, figsize=(5.6*2, 4.8*2))\n",
    "sns.scatterplot(\n",
    "    df_augment,\n",
    "    x=X[:,0], y=X[:,1],\n",
    "    hue='phase',\n",
    "    palette='tab20',\n",
    "    s=4,\n",
    "    legend=True,\n",
    "    ax=ax[0][0])\n",
    "sns.scatterplot(\n",
    "    df_augment,\n",
    "    x=X[:,0], y=X[:,1],\n",
    "    hue='species', hue_order=species,\n",
    "    palette='tab20',\n",
    "    s=4,\n",
    "    legend=True,\n",
    "    ax=ax[0][1])\n",
    "sns.scatterplot(\n",
    "    df_augment[df_augment['phase'] == '10May2021'],\n",
    "    x=X_train[:,0], y=X_train[:,1],\n",
    "    hue='species', hue_order=species,\n",
    "    palette='tab20',\n",
    "    s=4,\n",
    "    legend=False,\n",
    "    ax=ax[1][0])\n",
    "sns.scatterplot(\n",
    "    df_augment[df_augment['phase'] == '18Dec2020'],\n",
    "    x=X_test[:,0], y=X_test[:,1],\n",
    "    hue='species', hue_order=species,\n",
    "    palette='tab20',\n",
    "    s=4,\n",
    "    legend=False,\n",
    "    ax=ax[1][1])\n",
    "sns.move_legend(ax[0][0], \"upper left\", bbox_to_anchor=(2.2, 1))\n",
    "sns.move_legend(ax[0][1], \"upper left\", bbox_to_anchor=(1, 0.77))\n",
    "ax[0][0].set_title(\"UMAP Train and Test, capture shown\")\n",
    "ax[0][1].set_title(\"UMAP Train and Test, species shown\")\n",
    "ax[1][0].set_title(\"UMAP Train/10May2021, species shown\")\n",
    "ax[1][1].set_title(\"UMAP Test/18Dec2021, species shown\")\n",
    "#fig.tight_layout()"
   ]
  },
  {
   "cell_type": "markdown",
   "id": "d84eac72-901f-421a-b135-ca514cbb7613",
   "metadata": {},
   "source": [
    "## What happens if we introduce whitening?"
   ]
  },
  {
   "cell_type": "code",
   "execution_count": null,
   "id": "32128e32-cb8c-4027-9337-7865232e7dce",
   "metadata": {},
   "outputs": [],
   "source": [
    "df_whiten = df.copy()"
   ]
  },
  {
   "cell_type": "code",
   "execution_count": null,
   "id": "56fbe4ec-0342-4265-9594-efa549c297dc",
   "metadata": {},
   "outputs": [],
   "source": [
    "def whiten_image(x):\n",
    "    return (x-x.mean(axis=(0,1), keepdims=True))/x.std(axis=(0,1), keepdims=True)"
   ]
  },
  {
   "cell_type": "code",
   "execution_count": null,
   "id": "e7157431-cf9f-4410-b2b1-29afe0dd1f84",
   "metadata": {},
   "outputs": [],
   "source": [
    "df_whiten['whiten'] = df['post_pca'].progress_apply(lambda x: [whiten_image(i) for i in rand_crop_stretch(x, 20)])"
   ]
  },
  {
   "cell_type": "code",
   "execution_count": null,
   "id": "144d7166-9079-43a9-9517-d8cf4c1af040",
   "metadata": {},
   "outputs": [],
   "source": [
    "df_whiten = df_whiten.explode('whiten')"
   ]
  },
  {
   "cell_type": "code",
   "execution_count": null,
   "id": "71290401-8fad-4496-b56f-06a46be7a2c5",
   "metadata": {},
   "outputs": [],
   "source": [
    "df_whiten['embeddings'] = df_whiten['whiten'].progress_apply(embed)"
   ]
  },
  {
   "cell_type": "code",
   "execution_count": null,
   "id": "4723cabd-7f8a-47f5-83c2-7c5b42a17b19",
   "metadata": {},
   "outputs": [],
   "source": [
    "plt.imshow(df.iloc[0]['post_pca'][:,:,3])"
   ]
  },
  {
   "cell_type": "code",
   "execution_count": null,
   "id": "24065e03-e2e1-46bc-b0d6-04c05037922a",
   "metadata": {},
   "outputs": [],
   "source": [
    "post_trans = list(df_whiten.iloc[:20]['whiten'])"
   ]
  },
  {
   "cell_type": "code",
   "execution_count": null,
   "id": "1d730f7d-f4cc-403f-84d1-d9e9ceb4b2a5",
   "metadata": {},
   "outputs": [],
   "source": [
    "post_trans[idx][:,:,2].min()"
   ]
  },
  {
   "cell_type": "code",
   "execution_count": null,
   "id": "14a9cf3e-789e-4427-a200-b2df9083d064",
   "metadata": {
    "collapsed": true,
    "jupyter": {
     "outputs_hidden": true
    }
   },
   "outputs": [],
   "source": [
    "fig, ax = plt.subplots(2, 5, figsize=(5.6*5, 4.8*2))\n",
    "for ax_, idx in zip(ax.flatten(), range(len(ax.flatten()))):\n",
    "    ax_.imshow(post_trans[idx][:,:,:3])"
   ]
  },
  {
   "cell_type": "code",
   "execution_count": null,
   "id": "3c505d9f-80ce-4cb7-afec-6d340a7fbd62",
   "metadata": {},
   "outputs": [],
   "source": [
    "fig, ax = plt.subplots(2, 5, figsize=(5.6*5, 4.8*2))\n",
    "for ax_, idx in zip(ax.flatten(), range(len(ax.flatten()))):\n",
    "    ax_.imshow((post_trans[idx][:,:,:3] - post_trans[idx][:,:,:3].min()) / (post_trans[idx][:,:,:3].max() - post_trans[idx][:,:,:3].min()))"
   ]
  },
  {
   "cell_type": "code",
   "execution_count": null,
   "id": "d3e150b9-3ffb-4684-9c8a-c8cdf87ab972",
   "metadata": {
    "jupyter": {
     "source_hidden": true
    }
   },
   "outputs": [],
   "source": [
    "from umap import UMAP\n",
    "reducer = UMAP(n_components=2,\n",
    "               metric='euclidean',\n",
    "               n_neighbors=20,\n",
    "               min_dist=0.1)\n",
    "\n",
    "df_whiten['embeddings'].iloc[0].shape\n",
    "\n",
    "X = reducer.fit_transform(np.stack(list(df_whiten['embeddings'].apply(lambda x: x[0]))))\n",
    "X_train =\\\n",
    "    reducer.fit_transform(np.stack(list(df_whiten[df_whiten['phase'] == '10May2021']['embeddings'].apply(lambda x: x[0]))))\n",
    "X_test =\\\n",
    "    reducer.fit_transform(np.stack(list(df_whiten[df_whiten['phase'] == '18Dec2020']['embeddings'].apply(lambda x: x[0]))))\n",
    "\n",
    "species = df['species'].unique()\n",
    "\n",
    "fig, ax = plt.subplots(2, 2, figsize=(5.6*2, 4.8*2))\n",
    "sns.scatterplot(\n",
    "    df_whiten,\n",
    "    x=X[:,0], y=X[:,1],\n",
    "    hue='phase',\n",
    "    palette='tab20',\n",
    "    s=4,\n",
    "    legend=True,\n",
    "    ax=ax[0][0])\n",
    "sns.scatterplot(\n",
    "    df_whiten,\n",
    "    x=X[:,0], y=X[:,1],\n",
    "    hue='species', hue_order=species,\n",
    "    palette='tab20',\n",
    "    s=4,\n",
    "    legend=True,\n",
    "    ax=ax[0][1])\n",
    "sns.scatterplot(\n",
    "    df_whiten[df_whiten['phase'] == '10May2021'],\n",
    "    x=X_train[:,0], y=X_train[:,1],\n",
    "    hue='species', hue_order=species,\n",
    "    palette='tab20',\n",
    "    s=4,\n",
    "    legend=False,\n",
    "    ax=ax[1][0])\n",
    "sns.scatterplot(\n",
    "    df_whiten[df_whiten['phase'] == '18Dec2020'],\n",
    "    x=X_test[:,0], y=X_test[:,1],\n",
    "    hue='species', hue_order=species,\n",
    "    palette='tab20',\n",
    "    s=4,\n",
    "    legend=False,\n",
    "    ax=ax[1][1])\n",
    "sns.move_legend(ax[0][0], \"upper left\", bbox_to_anchor=(2.2, 1))\n",
    "sns.move_legend(ax[0][1], \"upper left\", bbox_to_anchor=(1, 0.77))\n",
    "ax[0][0].set_title(\"UMAP Train and Test, capture shown\")\n",
    "ax[0][1].set_title(\"UMAP Train and Test, species shown\")\n",
    "ax[1][0].set_title(\"UMAP Train/10May2021, species shown\")\n",
    "ax[1][1].set_title(\"UMAP Test/18Dec2021, species shown\")\n",
    "#fig.tight_layout()"
   ]
  },
  {
   "cell_type": "markdown",
   "id": "c3d26e18-bdcd-4502-94d8-2e4b760eed05",
   "metadata": {},
   "source": [
    "## Visualise the intermediate activations on various images"
   ]
  },
  {
   "cell_type": "code",
   "execution_count": null,
   "id": "f358265c-23de-44b4-98ca-66a5a95eec77",
   "metadata": {},
   "outputs": [],
   "source": [
    "df_resize_pca['conversion_layer_outputs'] = df_resize_pca['resized'].progress_apply(\n",
    "    lambda x: rearrange(\n",
    "        fm.conversion_layer_1(fm.conversion_layer_2(fm.conversion_layer(\n",
    "            tf.expand_dims(x, axis=0)))),\n",
    "        'b h w c -> (b h) w c').numpy())"
   ]
  },
  {
   "cell_type": "code",
   "execution_count": null,
   "id": "a64222e4-4929-412d-a8ca-bc253d15fc3b",
   "metadata": {},
   "outputs": [],
   "source": [
    "input = df_resize_pca['resized'].iloc[0]\n",
    "output = df_resize_pca['conversion_layer_outputs'].iloc[0]"
   ]
  },
  {
   "cell_type": "code",
   "execution_count": null,
   "id": "0f09ec6a-5f14-4c60-b340-575713bc1eec",
   "metadata": {},
   "outputs": [],
   "source": [
    "fig, ax = plt.subplots(1, 2, figsize=(5.6*2, 4.8))\n",
    "sns.histplot([input[:,:,i].flatten() for i in range(10)], ax=ax[0])\n",
    "sns.kdeplot([input[:,:,i].flatten() for i in range(10)], ax=ax[1])"
   ]
  },
  {
   "cell_type": "code",
   "execution_count": null,
   "id": "209ea705-857c-498d-8649-b73932c4c8f6",
   "metadata": {},
   "outputs": [],
   "source": [
    "fig, ax = plt.subplots(1, 2, figsize=(5.6*2, 4.8))\n",
    "sns.histplot([output[:,:,i].flatten() for i in range(3)], ax=ax[0])\n",
    "sns.kdeplot([output[:,:,i].flatten() for i in range(3)], ax=ax[1])"
   ]
  },
  {
   "cell_type": "code",
   "execution_count": null,
   "id": "be003656-58ef-42f8-8016-1433ff242151",
   "metadata": {},
   "outputs": [],
   "source": [
    "np.unique(output[:,:,0]).size,\\\n",
    "np.unique(output[:,:,1]).size,\\\n",
    "np.unique(output[:,:,2]).size"
   ]
  },
  {
   "cell_type": "code",
   "execution_count": null,
   "id": "9257d51e-b796-4646-9dcd-082c9baf271a",
   "metadata": {},
   "outputs": [],
   "source": [
    "sns.histplot([output[:,:,i].flatten() for i in range(3)],\n",
    "             log_scale=(False, True),\n",
    "             element='step',\n",
    "             fill=False,\n",
    "             bins=128)"
   ]
  },
  {
   "cell_type": "code",
   "execution_count": null,
   "id": "6b068414-90c2-41a5-ae6a-42241550cedc",
   "metadata": {},
   "outputs": [],
   "source": [
    "fig, ax = plt.subplots(1, 3, figsize=(5.6*3, 4.8))\n",
    "for ax_, idx in zip(ax, range(3)):\n",
    "    ax_.imshow(output[:,:,idx])"
   ]
  },
  {
   "cell_type": "code",
   "execution_count": null,
   "id": "b3410e5f-9321-4a87-877c-b610bb917c26",
   "metadata": {},
   "outputs": [],
   "source": [
    "output.mean(axis=(0,1))"
   ]
  },
  {
   "cell_type": "code",
   "execution_count": null,
   "id": "5abb30e8-d6d6-4ce9-b6bc-a6c0d4864d8e",
   "metadata": {},
   "outputs": [],
   "source": [
    "def minmax_image(x):\n",
    "    x = x * (1 / x[:,:,0].max())\n",
    "    return x"
   ]
  },
  {
   "cell_type": "code",
   "execution_count": null,
   "id": "36903149-135e-4ad8-a8db-598c7d156bd1",
   "metadata": {},
   "outputs": [],
   "source": [
    "sns.histplot([minmax_image(output)[:,:,i].flatten() for i in range(3)],\n",
    "             log_scale=(False, True),\n",
    "             element='step',\n",
    "             fill=False,\n",
    "             bins=128)"
   ]
  },
  {
   "cell_type": "code",
   "execution_count": null,
   "id": "86c9329c-9a67-429d-bf8f-bb79ab63ff6b",
   "metadata": {},
   "outputs": [],
   "source": [
    "plt.imshow(input[:,:,[1, 3, 4]] * input[:,:,[1, 3, 4]].max() / ) "
   ]
  },
  {
   "cell_type": "code",
   "execution_count": null,
   "id": "2d5a0b4d-f625-4a19-b262-057089f7c650",
   "metadata": {},
   "outputs": [],
   "source": [
    "df_resize_pca['filename'] = df['filename']"
   ]
  },
  {
   "cell_type": "code",
   "execution_count": null,
   "id": "518c4061-bac8-4472-b01b-5a895fb1fa00",
   "metadata": {},
   "outputs": [],
   "source": [
    "selected"
   ]
  },
  {
   "cell_type": "code",
   "execution_count": null,
   "id": "2f89a601-6384-4301-893d-19beda378db1",
   "metadata": {},
   "outputs": [],
   "source": [
    "fig, ax = plt.subplots(67, 6, figsize=(5.6*4, 4.8*66))\n",
    "row_num = 0\n",
    "for idx, row in tqdm(df_resize_pca.iterrows()):\n",
    "    row_ax = ax[row_num]\n",
    "    row_ax[0].set_xlabel(str((row['filename'], row['phase'])))\n",
    "    row_ax[0].set_ylabel('rgb')\n",
    "    row_ax[1].set_ylabel('red_edge')\n",
    "    row_ax[2].set_ylabel('nir')\n",
    "    row_ax[3].set_ylabel('out1')\n",
    "    row_ax[4].set_ylabel('out2')\n",
    "    row_ax[5].set_ylabel('out3')\n",
    "    row_ax[0].imshow(minmax_image(row['resized'][:,:,[3, 4, 1]]))\n",
    "    row_ax[1].imshow(row['resized'][:,:,0])\n",
    "    row_ax[2].imshow(row['resized'][:,:,2])\n",
    "    row_ax[3].imshow(row['conversion_layer_outputs'][:,:,0])\n",
    "    row_ax[4].imshow(row['conversion_layer_outputs'][:,:,1])\n",
    "    row_ax[5].imshow(row['conversion_layer_outputs'][:,:,2])\n",
    "    row_num += 1\n",
    "plt.tight_layout()"
   ]
  },
  {
   "cell_type": "code",
   "execution_count": null,
   "id": "fc7c6caf-0840-4492-b479-71e652655409",
   "metadata": {},
   "outputs": [],
   "source": []
  }
 ],
 "metadata": {
  "kernelspec": {
   "display_name": "Python 3 (ipykernel)",
   "language": "python",
   "name": "python3"
  },
  "language_info": {
   "codemirror_mode": {
    "name": "ipython",
    "version": 3
   },
   "file_extension": ".py",
   "mimetype": "text/x-python",
   "name": "python",
   "nbconvert_exporter": "python",
   "pygments_lexer": "ipython3",
   "version": "3.11.5"
  }
 },
 "nbformat": 4,
 "nbformat_minor": 5
}
