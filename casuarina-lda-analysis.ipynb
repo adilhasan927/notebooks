{
 "cells": [
  {
   "cell_type": "markdown",
   "id": "5dd316a4-9d99-4557-9eae-aa8c6dac8c9e",
   "metadata": {},
   "source": [
    "# Analysis of the Campnosperma and Macaranga embeddings"
   ]
  },
  {
   "cell_type": "markdown",
   "id": "6041b8a4-270b-45fc-b1cc-8d6bc8637da4",
   "metadata": {},
   "source": [
    "## Imports"
   ]
  },
  {
   "cell_type": "code",
   "execution_count": 1,
   "id": "172e0724-47f1-4571-ba7e-bcdc6987edab",
   "metadata": {},
   "outputs": [],
   "source": [
    "import pandas as pd\n",
    "import numpy as np\n",
    "import matplotlib.pyplot as plt\n",
    "import rasterio as rio\n",
    "import sklearn\n",
    "import scipy\n",
    "import seaborn as sns"
   ]
  },
  {
   "cell_type": "code",
   "execution_count": 2,
   "id": "7d62a90e-7482-46d1-9f1e-9af1f287c223",
   "metadata": {},
   "outputs": [],
   "source": [
    "import tqdm\n",
    "#from tqdm import tqdm\n",
    "from tqdm.notebook import tqdm # for notebooks\n",
    "tqdm.pandas()"
   ]
  },
  {
   "cell_type": "code",
   "execution_count": 3,
   "id": "ab462402-32d7-408f-87e3-b4cd36d5bc7d",
   "metadata": {},
   "outputs": [],
   "source": [
    "import pickle\n",
    "import gc\n",
    "collectAll = lambda : gc.collect(0) + gc.collect(1) + gc.collect(2)"
   ]
  },
  {
   "cell_type": "code",
   "execution_count": 4,
   "id": "ebe55523-4f22-44f2-8e5b-3503cfc96929",
   "metadata": {},
   "outputs": [],
   "source": [
    "#from pandarallel import pandarallel\n",
    "#pandarallel.initialize(progress_bar=True)"
   ]
  },
  {
   "cell_type": "code",
   "execution_count": 5,
   "id": "33d1996c-c86b-476a-b3cd-6af89664e0d2",
   "metadata": {
    "tags": []
   },
   "outputs": [],
   "source": [
    "#import itables\n",
    "#from itables import show"
   ]
  },
  {
   "cell_type": "code",
   "execution_count": 6,
   "id": "a7e8ef8f-63da-4617-8c24-1e6d814954cd",
   "metadata": {},
   "outputs": [],
   "source": [
    "from collections import namedtuple\n",
    "import itertools\n",
    "from itertools import product"
   ]
  },
  {
   "cell_type": "code",
   "execution_count": 7,
   "id": "cdc608f8-e32c-4d7b-8cd5-5be142951411",
   "metadata": {},
   "outputs": [],
   "source": [
    "from skimage.feature import graycomatrix\n",
    "from skimage.feature import graycoprops\n",
    "from math import pi"
   ]
  },
  {
   "cell_type": "code",
   "execution_count": 8,
   "id": "ed249af6-b3d0-4b8b-8b71-a459b4e2fb56",
   "metadata": {},
   "outputs": [],
   "source": [
    "import PIL as pil\n",
    "from PIL import Image, ImageDraw"
   ]
  },
  {
   "cell_type": "code",
   "execution_count": 9,
   "id": "0b5cfcad-eae5-43a9-9321-24f7b36ea318",
   "metadata": {},
   "outputs": [],
   "source": [
    "#import papermill as pm"
   ]
  },
  {
   "cell_type": "code",
   "execution_count": 10,
   "id": "dda7084b-2b06-4b31-bd51-25899b89e921",
   "metadata": {
    "tags": []
   },
   "outputs": [],
   "source": [
    "import math"
   ]
  },
  {
   "cell_type": "code",
   "execution_count": 11,
   "id": "22a0f4af-2fd9-430b-a49e-28c688b1199b",
   "metadata": {},
   "outputs": [],
   "source": [
    "import matplotlib\n",
    "matplotlib.rcParams[\"image.origin\"] = 'upper'"
   ]
  },
  {
   "cell_type": "code",
   "execution_count": 12,
   "id": "8018468e-b995-4fac-a74a-db268bfe62c7",
   "metadata": {},
   "outputs": [],
   "source": [
    "import os"
   ]
  },
  {
   "cell_type": "code",
   "execution_count": 13,
   "id": "d4c4da3c-b352-400e-b71a-b56d7d33bc57",
   "metadata": {},
   "outputs": [],
   "source": [
    "import functools"
   ]
  },
  {
   "cell_type": "code",
   "execution_count": 14,
   "id": "2f41a361-3a03-4f58-b64f-eaa887fffb90",
   "metadata": {},
   "outputs": [],
   "source": [
    "import tensorflow as tf"
   ]
  },
  {
   "cell_type": "code",
   "execution_count": 15,
   "id": "caa9fc92-e071-40d7-9738-fba294db8cee",
   "metadata": {},
   "outputs": [],
   "source": [
    "import torch\n",
    "import torchvision"
   ]
  },
  {
   "cell_type": "code",
   "execution_count": 16,
   "id": "793db254-1229-4b25-a6a8-9d263b4bdbbd",
   "metadata": {},
   "outputs": [],
   "source": [
    "from einops import *"
   ]
  },
  {
   "cell_type": "code",
   "execution_count": 17,
   "id": "852594fa-1784-4d06-be8a-87b82800fff2",
   "metadata": {},
   "outputs": [],
   "source": [
    "import cv2"
   ]
  },
  {
   "cell_type": "code",
   "execution_count": 18,
   "id": "059eb05e-4e9e-4e8e-940e-405fd6a2ef51",
   "metadata": {},
   "outputs": [
    {
     "name": "stdout",
     "output_type": "stream",
     "text": [
      "INFO: Pandarallel will run on 4 workers.\n",
      "INFO: Pandarallel will use standard multiprocessing data transfer (pipe) to transfer data between the main process and workers.\n",
      "\n",
      "WARNING: You are on Windows. If you detect any issue with pandarallel, be sure you checked out the Troubleshooting page:\n",
      "https://nalepae.github.io/pandarallel/troubleshooting/\n"
     ]
    }
   ],
   "source": [
    "from pandarallel import pandarallel\n",
    "pandarallel.initialize(progress_bar=True)"
   ]
  },
  {
   "cell_type": "code",
   "execution_count": 19,
   "id": "ae48df73-a17d-4f35-a367-6135d8cc041a",
   "metadata": {},
   "outputs": [],
   "source": [
    "import networkx as nx"
   ]
  },
  {
   "cell_type": "markdown",
   "id": "b17e3289-e53b-418a-a0d7-689275aa7c37",
   "metadata": {},
   "source": [
    "## Load in the pretrained facenet"
   ]
  },
  {
   "cell_type": "code",
   "execution_count": 20,
   "id": "c9c5984a-abef-430c-8458-4e391524922c",
   "metadata": {},
   "outputs": [],
   "source": [
    "import model\n",
    "from model import face_model"
   ]
  },
  {
   "cell_type": "code",
   "execution_count": 21,
   "id": "810da60f-a2f2-4ec6-8909-5fc6a67bc3ba",
   "metadata": {},
   "outputs": [],
   "source": [
    "import importlib\n",
    "model = importlib.reload(model)\n",
    "face_model = model.face_model"
   ]
  },
  {
   "cell_type": "code",
   "execution_count": 22,
   "id": "cd2c357b-7650-4512-abca-23c3b42a88f9",
   "metadata": {},
   "outputs": [],
   "source": [
    "class Params():\n",
    "    def __init__(self):\n",
    "        self.image_size = 250\n",
    "        self.embedding_size=128"
   ]
  },
  {
   "cell_type": "code",
   "execution_count": 23,
   "id": "1f4fffcf-4370-44b6-b205-694aed3f89b0",
   "metadata": {},
   "outputs": [],
   "source": [
    "fm = face_model(Params())"
   ]
  },
  {
   "cell_type": "code",
   "execution_count": 24,
   "id": "41db4070-fda1-4623-b04a-2f1f829ee1de",
   "metadata": {},
   "outputs": [],
   "source": [
    "checkpoint = tf.train.Checkpoint(fm)"
   ]
  },
  {
   "cell_type": "code",
   "execution_count": 25,
   "id": "3d1c988a-148d-4c1a-ac49-7d28df913bde",
   "metadata": {},
   "outputs": [
    {
     "data": {
      "text/plain": [
       "<tensorflow.python.checkpoint.checkpoint.CheckpointLoadStatus at 0x1fa4c3fde90>"
      ]
     },
     "execution_count": 25,
     "metadata": {},
     "output_type": "execute_result"
    }
   ],
   "source": [
    "checkpoint.restore('../weights/weights/ckpt/ckpt-11')"
   ]
  },
  {
   "cell_type": "code",
   "execution_count": null,
   "id": "730c49f1-2678-407b-9527-7caa5aa9b10f",
   "metadata": {},
   "outputs": [],
   "source": []
  },
  {
   "cell_type": "code",
   "execution_count": null,
   "id": "bb2850a4-8a70-477c-aa09-a6109c14d6f3",
   "metadata": {},
   "outputs": [],
   "source": []
  }
 ],
 "metadata": {
  "kernelspec": {
   "display_name": "Python 3 (ipykernel)",
   "language": "python",
   "name": "python3"
  },
  "language_info": {
   "codemirror_mode": {
    "name": "ipython",
    "version": 3
   },
   "file_extension": ".py",
   "mimetype": "text/x-python",
   "name": "python",
   "nbconvert_exporter": "python",
   "pygments_lexer": "ipython3",
   "version": "3.11.5"
  }
 },
 "nbformat": 4,
 "nbformat_minor": 5
}
