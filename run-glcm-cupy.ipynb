{
 "cells": [
  {
   "cell_type": "code",
   "execution_count": 35,
   "id": "1944df60-94f6-4e0c-b2cd-237708adaa43",
   "metadata": {},
   "outputs": [
    {
     "name": "stderr",
     "output_type": "stream",
     "text": [
      "E:\\miniconda3\\envs\\glcm-cupy-env\\lib\\site-packages\\tqdm\\auto.py:22: TqdmWarning: IProgress not found. Please update jupyter and ipywidgets. See https://ipywidgets.readthedocs.io/en/stable/user_install.html\n",
      "  from .autonotebook import tqdm as notebook_tqdm\n"
     ]
    }
   ],
   "source": [
    "import pandas as pd\n",
    "import glcm_cupy\n",
    "from tqdm.auto import tqdm\n",
    "tqdm.pandas()"
   ]
  },
  {
   "cell_type": "code",
   "execution_count": 16,
   "id": "e5e705a4-c34a-421e-8fdf-d2620f003fcf",
   "metadata": {},
   "outputs": [],
   "source": [
    "macaranga = pd.read_pickle('casuarina.pickle')"
   ]
  },
  {
   "cell_type": "code",
   "execution_count": 17,
   "id": "25ed6eb7-b4fc-4d8b-94d5-21acf2fb00a2",
   "metadata": {},
   "outputs": [
    {
     "data": {
      "text/plain": [
       "Index(['src', 'name', 'ymin', 'ymax', 'xmin', 'xmax', 'crop'], dtype='object')"
      ]
     },
     "execution_count": 17,
     "metadata": {},
     "output_type": "execute_result"
    }
   ],
   "source": [
    "macaranga.columns"
   ]
  },
  {
   "cell_type": "code",
   "execution_count": 18,
   "id": "41858bcb-cea9-4e33-a888-66684c5ecea2",
   "metadata": {},
   "outputs": [
    {
     "data": {
      "text/html": [
       "<div>\n",
       "<style scoped>\n",
       "    .dataframe tbody tr th:only-of-type {\n",
       "        vertical-align: middle;\n",
       "    }\n",
       "\n",
       "    .dataframe tbody tr th {\n",
       "        vertical-align: top;\n",
       "    }\n",
       "\n",
       "    .dataframe thead th {\n",
       "        text-align: right;\n",
       "    }\n",
       "</style>\n",
       "<table border=\"1\" class=\"dataframe\">\n",
       "  <thead>\n",
       "    <tr style=\"text-align: right;\">\n",
       "      <th></th>\n",
       "      <th>src</th>\n",
       "      <th>name</th>\n",
       "      <th>ymin</th>\n",
       "      <th>ymax</th>\n",
       "      <th>xmin</th>\n",
       "      <th>xmax</th>\n",
       "    </tr>\n",
       "  </thead>\n",
       "  <tbody>\n",
       "    <tr>\n",
       "      <th>0</th>\n",
       "      <td>183deg</td>\n",
       "      <td>macagi top</td>\n",
       "      <td>1259</td>\n",
       "      <td>1846</td>\n",
       "      <td>4600</td>\n",
       "      <td>5041</td>\n",
       "    </tr>\n",
       "    <tr>\n",
       "      <th>1</th>\n",
       "      <td>183deg</td>\n",
       "      <td>macagi top left</td>\n",
       "      <td>2207</td>\n",
       "      <td>2623</td>\n",
       "      <td>2626</td>\n",
       "      <td>3200</td>\n",
       "    </tr>\n",
       "    <tr>\n",
       "      <th>2</th>\n",
       "      <td>183deg</td>\n",
       "      <td>macagi middle</td>\n",
       "      <td>2849</td>\n",
       "      <td>3096</td>\n",
       "      <td>4916</td>\n",
       "      <td>5049</td>\n",
       "    </tr>\n",
       "    <tr>\n",
       "      <th>3</th>\n",
       "      <td>183deg</td>\n",
       "      <td>macagi bottom</td>\n",
       "      <td>3729</td>\n",
       "      <td>3976</td>\n",
       "      <td>3664</td>\n",
       "      <td>3897</td>\n",
       "    </tr>\n",
       "    <tr>\n",
       "      <th>4</th>\n",
       "      <td>93deg</td>\n",
       "      <td>macagi top</td>\n",
       "      <td>1375</td>\n",
       "      <td>2037</td>\n",
       "      <td>4117</td>\n",
       "      <td>4554</td>\n",
       "    </tr>\n",
       "    <tr>\n",
       "      <th>5</th>\n",
       "      <td>93deg</td>\n",
       "      <td>macagi top left</td>\n",
       "      <td>2393</td>\n",
       "      <td>2793</td>\n",
       "      <td>2193</td>\n",
       "      <td>2709</td>\n",
       "    </tr>\n",
       "    <tr>\n",
       "      <th>6</th>\n",
       "      <td>93deg</td>\n",
       "      <td>macagi middle</td>\n",
       "      <td>3015</td>\n",
       "      <td>3279</td>\n",
       "      <td>4476</td>\n",
       "      <td>4636</td>\n",
       "    </tr>\n",
       "    <tr>\n",
       "      <th>7</th>\n",
       "      <td>93deg</td>\n",
       "      <td>macagi bottom</td>\n",
       "      <td>3921</td>\n",
       "      <td>4196</td>\n",
       "      <td>3224</td>\n",
       "      <td>3444</td>\n",
       "    </tr>\n",
       "  </tbody>\n",
       "</table>\n",
       "</div>"
      ],
      "text/plain": [
       "      src             name  ymin  ymax  xmin  xmax\n",
       "0  183deg       macagi top  1259  1846  4600  5041\n",
       "1  183deg  macagi top left  2207  2623  2626  3200\n",
       "2  183deg    macagi middle  2849  3096  4916  5049\n",
       "3  183deg    macagi bottom  3729  3976  3664  3897\n",
       "4   93deg       macagi top  1375  2037  4117  4554\n",
       "5   93deg  macagi top left  2393  2793  2193  2709\n",
       "6   93deg    macagi middle  3015  3279  4476  4636\n",
       "7   93deg    macagi bottom  3921  4196  3224  3444"
      ]
     },
     "execution_count": 18,
     "metadata": {},
     "output_type": "execute_result"
    }
   ],
   "source": [
    "macaranga.iloc[:,:-1]"
   ]
  },
  {
   "cell_type": "code",
   "execution_count": 32,
   "id": "54fdeb1c-b8d0-48f2-bc9a-b282e4a57637",
   "metadata": {},
   "outputs": [],
   "source": [
    "from glcm_cupy import glcm, GLCM, Direction, Features"
   ]
  },
  {
   "cell_type": "code",
   "execution_count": null,
   "id": "c61da2d6-2ef6-4051-befe-ed7243058838",
   "metadata": {},
   "outputs": [
    {
     "name": "stderr",
     "output_type": "stream",
     "text": [
      "  0%|                                                                                            | 0/8 [00:00<?, ?it/s]\n",
      "GLCM Progress:   0%|                                                                  | 0.00/4.77M [00:00<?, ? Cells/s]\u001b[A\n",
      "GLCM Progress:   0%|                                                       | 1.00k/4.77M [00:26<35:14:25, 37.6 Cells/s]\u001b[A\n",
      "GLCM Progress:   0%|                                                         | 3.00k/4.77M [00:26<9:11:23, 144 Cells/s]\u001b[A\n",
      "GLCM Progress:   0%|                                                         | 7.00k/4.77M [00:26<2:58:21, 445 Cells/s]\u001b[A\n",
      "GLCM Progress:   0%|▏                                                        | 11.0k/4.77M [00:26<1:31:31, 867 Cells/s]\u001b[A\n",
      "GLCM Progress:   0%|▏                                                        | 15.0k/4.77M [00:27<54:34, 1.45k Cells/s]\u001b[A\n",
      "GLCM Progress:   0%|▏                                                        | 19.0k/4.77M [00:27<35:02, 2.26k Cells/s]\u001b[A\n",
      "GLCM Progress:   0%|▎                                                        | 23.0k/4.77M [00:27<23:41, 3.34k Cells/s]\u001b[A\n",
      "GLCM Progress:   1%|▎                                                        | 27.0k/4.77M [00:27<16:29, 4.80k Cells/s]\u001b[A\n",
      "GLCM Progress:   1%|▎                                                        | 31.0k/4.77M [00:27<11:55, 6.63k Cells/s]\u001b[A\n",
      "GLCM Progress:   1%|▍                                                        | 36.0k/4.77M [00:27<08:20, 9.47k Cells/s]\u001b[A\n",
      "GLCM Progress:   1%|▍                                                        | 40.0k/4.77M [00:27<06:32, 12.1k Cells/s]\u001b[A\n",
      "GLCM Progress:   1%|▌                                                        | 44.0k/4.77M [00:27<05:12, 15.1k Cells/s]\u001b[A\n",
      "GLCM Progress:   1%|▌                                                        | 48.0k/4.77M [00:27<04:19, 18.2k Cells/s]\u001b[A\n",
      "GLCM Progress:   1%|▌                                                        | 52.0k/4.77M [00:28<03:38, 21.7k Cells/s]\u001b[A\n",
      "GLCM Progress:   1%|▋                                                        | 56.0k/4.77M [00:28<03:12, 24.5k Cells/s]\u001b[A\n",
      "GLCM Progress:   1%|▋                                                        | 60.0k/4.77M [00:28<02:50, 27.7k Cells/s]\u001b[A\n",
      "GLCM Progress:   1%|▊                                                        | 64.0k/4.77M [00:28<02:40, 29.4k Cells/s]\u001b[A\n",
      "GLCM Progress:   1%|▊                                                        | 68.0k/4.77M [00:28<02:27, 31.8k Cells/s]\u001b[A\n",
      "GLCM Progress:   2%|▊                                                        | 72.0k/4.77M [00:28<02:24, 32.6k Cells/s]\u001b[A\n",
      "GLCM Progress:   2%|▉                                                        | 76.0k/4.77M [00:28<02:16, 34.5k Cells/s]\u001b[A\n",
      "GLCM Progress:   2%|▉                                                        | 80.0k/4.77M [00:28<02:17, 34.0k Cells/s]\u001b[A\n",
      "GLCM Progress:   2%|█                                                        | 84.0k/4.77M [00:28<02:15, 34.6k Cells/s]\u001b[A\n",
      "GLCM Progress:   2%|█                                                        | 88.0k/4.77M [00:29<02:11, 35.7k Cells/s]\u001b[A\n",
      "GLCM Progress:   2%|█                                                        | 92.0k/4.77M [00:29<02:11, 35.5k Cells/s]\u001b[A\n",
      "GLCM Progress:   2%|█▏                                                       | 96.0k/4.77M [00:29<02:07, 36.8k Cells/s]\u001b[A\n",
      "GLCM Progress:   2%|█▏                                                        | 100k/4.77M [00:29<02:04, 37.5k Cells/s]\u001b[A\n",
      "GLCM Progress:   2%|█▎                                                        | 104k/4.77M [00:29<02:08, 36.4k Cells/s]\u001b[A\n",
      "GLCM Progress:   2%|█▎                                                        | 109k/4.77M [00:29<02:08, 36.4k Cells/s]\u001b[A\n",
      "GLCM Progress:   2%|█▍                                                        | 114k/4.77M [00:29<02:05, 37.1k Cells/s]\u001b[A\n",
      "GLCM Progress:   2%|█▍                                                        | 118k/4.77M [00:29<02:07, 36.7k Cells/s]\u001b[A\n",
      "GLCM Progress:   3%|█▍                                                        | 122k/4.77M [00:29<02:04, 37.4k Cells/s]\u001b[A\n",
      "GLCM Progress:   3%|█▌                                                        | 126k/4.77M [00:30<02:08, 36.2k Cells/s]\u001b[A\n",
      "GLCM Progress:   3%|█▌                                                        | 130k/4.77M [00:30<02:05, 37.1k Cells/s]\u001b[A\n",
      "GLCM Progress:   3%|█▋                                                        | 134k/4.77M [00:30<02:08, 36.1k Cells/s]\u001b[A\n",
      "GLCM Progress:   3%|█▋                                                        | 139k/4.77M [00:30<02:06, 36.6k Cells/s]\u001b[A\n",
      "GLCM Progress:   3%|█▋                                                        | 143k/4.77M [00:30<02:08, 36.1k Cells/s]\u001b[A\n",
      "GLCM Progress:   3%|█▊                                                        | 147k/4.77M [00:30<02:08, 36.1k Cells/s]\u001b[A\n",
      "GLCM Progress:   3%|█▊                                                        | 151k/4.77M [00:30<02:06, 36.7k Cells/s]\u001b[A\n",
      "GLCM Progress:   3%|█▉                                                        | 155k/4.77M [00:30<02:04, 37.0k Cells/s]\u001b[A\n",
      "GLCM Progress:   3%|█▉                                                        | 159k/4.77M [00:30<02:05, 36.8k Cells/s]\u001b[A\n",
      "GLCM Progress:   3%|█▉                                                        | 163k/4.77M [00:31<02:07, 36.2k Cells/s]\u001b[A\n",
      "GLCM Progress:   3%|██                                                        | 167k/4.77M [00:31<02:06, 36.5k Cells/s]\u001b[A\n",
      "GLCM Progress:   4%|██                                                        | 172k/4.77M [00:31<02:05, 36.7k Cells/s]\u001b[A\n",
      "GLCM Progress:   4%|██▏                                                       | 177k/4.77M [00:31<02:02, 37.5k Cells/s]\u001b[A\n",
      "GLCM Progress:   4%|██▏                                                       | 181k/4.77M [00:31<02:05, 36.5k Cells/s]\u001b[A\n",
      "GLCM Progress:   4%|██▎                                                       | 186k/4.77M [00:31<02:04, 36.8k Cells/s]\u001b[A\n",
      "GLCM Progress:   4%|██▎                                                       | 191k/4.77M [00:31<02:02, 37.3k Cells/s]\u001b[A\n",
      "GLCM Progress:   4%|██▎                                                       | 195k/4.77M [00:31<02:05, 36.6k Cells/s]\u001b[A\n",
      "GLCM Progress:   4%|██▍                                                       | 199k/4.77M [00:32<02:04, 36.6k Cells/s]\u001b[A\n",
      "GLCM Progress:   4%|██▍                                                       | 203k/4.77M [00:32<02:04, 36.6k Cells/s]\u001b[A\n",
      "GLCM Progress:   4%|██▌                                                       | 207k/4.77M [00:32<02:04, 36.6k Cells/s]\u001b[A\n",
      "GLCM Progress:   4%|██▌                                                       | 211k/4.77M [00:32<02:04, 36.5k Cells/s]\u001b[A"
     ]
    }
   ],
   "source": [
    "macaranga['glcm'] = macaranga['crop'].progress_apply(\n",
    "    lambda x: glcm(x,\n",
    "                   directions=(Direction.EAST, Direction.SOUTH_EAST, Direction.SOUTH, Direction.SOUTH_WEST),\n",
    "                   features=(Features.MEAN,),\n",
    "                   step_size=7,\n",
    "                   radius=3,\n",
    "                   bin_from=2**14,\n",
    "                   bin_to=128,\n",
    "                   normalized_features=True))"
   ]
  },
  {
   "cell_type": "code",
   "execution_count": null,
   "id": "aa1d3b34-5e11-49ba-b715-8db0a9bbb7d4",
   "metadata": {},
   "outputs": [],
   "source": [
    "macaranga.to_pickle('casuarina_glcm.pickle')"
   ]
  },
  {
   "cell_type": "code",
   "execution_count": null,
   "id": "b5a27e05-8b2a-45ce-b964-82656c0dd236",
   "metadata": {},
   "outputs": [],
   "source": []
  }
 ],
 "metadata": {
  "kernelspec": {
   "display_name": "Python 3 (ipykernel)",
   "language": "python",
   "name": "python3"
  },
  "language_info": {
   "codemirror_mode": {
    "name": "ipython",
    "version": 3
   },
   "file_extension": ".py",
   "mimetype": "text/x-python",
   "name": "python",
   "nbconvert_exporter": "python",
   "pygments_lexer": "ipython3",
   "version": "3.10.13"
  }
 },
 "nbformat": 4,
 "nbformat_minor": 5
}
