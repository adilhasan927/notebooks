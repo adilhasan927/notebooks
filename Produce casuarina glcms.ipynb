{
 "cells": [
  {
   "cell_type": "code",
   "execution_count": 1,
   "id": "1944df60-94f6-4e0c-b2cd-237708adaa43",
   "metadata": {},
   "outputs": [
    {
     "name": "stderr",
     "output_type": "stream",
     "text": [
      "E:\\miniconda3\\envs\\glcm-cupy-env\\lib\\site-packages\\tqdm\\auto.py:22: TqdmWarning: IProgress not found. Please update jupyter and ipywidgets. See https://ipywidgets.readthedocs.io/en/stable/user_install.html\n",
      "  from .autonotebook import tqdm as notebook_tqdm\n"
     ]
    }
   ],
   "source": [
    "import pandas as pd\n",
    "import glcm_cupy\n",
    "from tqdm.auto import tqdm\n",
    "tqdm.pandas()"
   ]
  },
  {
   "cell_type": "code",
   "execution_count": 2,
   "id": "e5e705a4-c34a-421e-8fdf-d2620f003fcf",
   "metadata": {},
   "outputs": [],
   "source": [
    "df_casuarina = pd.read_pickle('casuarina.pickle')"
   ]
  },
  {
   "cell_type": "code",
   "execution_count": 3,
   "id": "25ed6eb7-b4fc-4d8b-94d5-21acf2fb00a2",
   "metadata": {},
   "outputs": [
    {
     "data": {
      "text/plain": [
       "Index(['name', 'ymin', 'ymax', 'xmin', 'xmax', 'src', 'crop'], dtype='object')"
      ]
     },
     "execution_count": 3,
     "metadata": {},
     "output_type": "execute_result"
    }
   ],
   "source": [
    "df_casuarina.columns"
   ]
  },
  {
   "cell_type": "code",
   "execution_count": 4,
   "id": "41858bcb-cea9-4e33-a888-66684c5ecea2",
   "metadata": {},
   "outputs": [
    {
     "data": {
      "text/html": [
       "<div>\n",
       "<style scoped>\n",
       "    .dataframe tbody tr th:only-of-type {\n",
       "        vertical-align: middle;\n",
       "    }\n",
       "\n",
       "    .dataframe tbody tr th {\n",
       "        vertical-align: top;\n",
       "    }\n",
       "\n",
       "    .dataframe thead th {\n",
       "        text-align: right;\n",
       "    }\n",
       "</style>\n",
       "<table border=\"1\" class=\"dataframe\">\n",
       "  <thead>\n",
       "    <tr style=\"text-align: right;\">\n",
       "      <th></th>\n",
       "      <th>name</th>\n",
       "      <th>ymin</th>\n",
       "      <th>ymax</th>\n",
       "      <th>xmin</th>\n",
       "      <th>xmax</th>\n",
       "      <th>src</th>\n",
       "    </tr>\n",
       "  </thead>\n",
       "  <tbody>\n",
       "    <tr>\n",
       "      <th>0</th>\n",
       "      <td>Campnosperma N</td>\n",
       "      <td>4017</td>\n",
       "      <td>4166</td>\n",
       "      <td>4305</td>\n",
       "      <td>4485</td>\n",
       "      <td>93deg</td>\n",
       "    </tr>\n",
       "    <tr>\n",
       "      <th>1</th>\n",
       "      <td>Campnosperma S</td>\n",
       "      <td>4583</td>\n",
       "      <td>4702</td>\n",
       "      <td>4242</td>\n",
       "      <td>4421</td>\n",
       "      <td>93deg</td>\n",
       "    </tr>\n",
       "    <tr>\n",
       "      <th>2</th>\n",
       "      <td>Palm Tree</td>\n",
       "      <td>4471</td>\n",
       "      <td>4648</td>\n",
       "      <td>3706</td>\n",
       "      <td>3891</td>\n",
       "      <td>93deg</td>\n",
       "    </tr>\n",
       "    <tr>\n",
       "      <th>3</th>\n",
       "      <td>Campnosperma N</td>\n",
       "      <td>3833</td>\n",
       "      <td>3984</td>\n",
       "      <td>4717</td>\n",
       "      <td>4901</td>\n",
       "      <td>183deg</td>\n",
       "    </tr>\n",
       "    <tr>\n",
       "      <th>4</th>\n",
       "      <td>Campnosperma S</td>\n",
       "      <td>4403</td>\n",
       "      <td>4520</td>\n",
       "      <td>4639</td>\n",
       "      <td>4795</td>\n",
       "      <td>183deg</td>\n",
       "    </tr>\n",
       "    <tr>\n",
       "      <th>5</th>\n",
       "      <td>Palm Tree</td>\n",
       "      <td>4289</td>\n",
       "      <td>4450</td>\n",
       "      <td>4162</td>\n",
       "      <td>4334</td>\n",
       "      <td>183deg</td>\n",
       "    </tr>\n",
       "    <tr>\n",
       "      <th>6</th>\n",
       "      <td>macagi top</td>\n",
       "      <td>1259</td>\n",
       "      <td>1846</td>\n",
       "      <td>4600</td>\n",
       "      <td>5041</td>\n",
       "      <td>183deg</td>\n",
       "    </tr>\n",
       "    <tr>\n",
       "      <th>7</th>\n",
       "      <td>macagi top left</td>\n",
       "      <td>2207</td>\n",
       "      <td>2623</td>\n",
       "      <td>2626</td>\n",
       "      <td>3200</td>\n",
       "      <td>183deg</td>\n",
       "    </tr>\n",
       "    <tr>\n",
       "      <th>8</th>\n",
       "      <td>macagi middle</td>\n",
       "      <td>2849</td>\n",
       "      <td>3096</td>\n",
       "      <td>4916</td>\n",
       "      <td>5049</td>\n",
       "      <td>183deg</td>\n",
       "    </tr>\n",
       "    <tr>\n",
       "      <th>9</th>\n",
       "      <td>macagi bottom</td>\n",
       "      <td>3729</td>\n",
       "      <td>3976</td>\n",
       "      <td>3664</td>\n",
       "      <td>3897</td>\n",
       "      <td>183deg</td>\n",
       "    </tr>\n",
       "    <tr>\n",
       "      <th>10</th>\n",
       "      <td>macagi top</td>\n",
       "      <td>1375</td>\n",
       "      <td>2037</td>\n",
       "      <td>4117</td>\n",
       "      <td>4554</td>\n",
       "      <td>93deg</td>\n",
       "    </tr>\n",
       "    <tr>\n",
       "      <th>11</th>\n",
       "      <td>macagi top left</td>\n",
       "      <td>2393</td>\n",
       "      <td>2793</td>\n",
       "      <td>2193</td>\n",
       "      <td>2709</td>\n",
       "      <td>93deg</td>\n",
       "    </tr>\n",
       "    <tr>\n",
       "      <th>12</th>\n",
       "      <td>macagi middle</td>\n",
       "      <td>3015</td>\n",
       "      <td>3279</td>\n",
       "      <td>4476</td>\n",
       "      <td>4636</td>\n",
       "      <td>93deg</td>\n",
       "    </tr>\n",
       "    <tr>\n",
       "      <th>13</th>\n",
       "      <td>macagi bottom</td>\n",
       "      <td>3921</td>\n",
       "      <td>4196</td>\n",
       "      <td>3224</td>\n",
       "      <td>3444</td>\n",
       "      <td>93deg</td>\n",
       "    </tr>\n",
       "  </tbody>\n",
       "</table>\n",
       "</div>"
      ],
      "text/plain": [
       "               name  ymin  ymax  xmin  xmax     src\n",
       "0    Campnosperma N  4017  4166  4305  4485   93deg\n",
       "1    Campnosperma S  4583  4702  4242  4421   93deg\n",
       "2         Palm Tree  4471  4648  3706  3891   93deg\n",
       "3    Campnosperma N  3833  3984  4717  4901  183deg\n",
       "4    Campnosperma S  4403  4520  4639  4795  183deg\n",
       "5         Palm Tree  4289  4450  4162  4334  183deg\n",
       "6        macagi top  1259  1846  4600  5041  183deg\n",
       "7   macagi top left  2207  2623  2626  3200  183deg\n",
       "8     macagi middle  2849  3096  4916  5049  183deg\n",
       "9     macagi bottom  3729  3976  3664  3897  183deg\n",
       "10       macagi top  1375  2037  4117  4554   93deg\n",
       "11  macagi top left  2393  2793  2193  2709   93deg\n",
       "12    macagi middle  3015  3279  4476  4636   93deg\n",
       "13    macagi bottom  3921  4196  3224  3444   93deg"
      ]
     },
     "execution_count": 4,
     "metadata": {},
     "output_type": "execute_result"
    }
   ],
   "source": [
    "df_casuarina.iloc[:,:-1]"
   ]
  },
  {
   "cell_type": "code",
   "execution_count": 5,
   "id": "54fdeb1c-b8d0-48f2-bc9a-b282e4a57637",
   "metadata": {},
   "outputs": [],
   "source": [
    "from glcm_cupy import glcm, GLCM, Direction, Features"
   ]
  },
  {
   "cell_type": "code",
   "execution_count": 6,
   "id": "4ddbc4fc-aa22-425c-9ff4-0befce0a350b",
   "metadata": {
    "scrolled": true
   },
   "outputs": [
    {
     "data": {
      "text/plain": [
       "0     (149, 180, 5)\n",
       "1     (119, 179, 5)\n",
       "2     (177, 185, 5)\n",
       "3     (151, 184, 5)\n",
       "4     (117, 156, 5)\n",
       "5     (161, 172, 5)\n",
       "6     (587, 441, 5)\n",
       "7     (416, 574, 5)\n",
       "8     (247, 133, 5)\n",
       "9     (247, 233, 5)\n",
       "10    (662, 437, 5)\n",
       "11    (400, 516, 5)\n",
       "12    (264, 160, 5)\n",
       "13    (275, 220, 5)\n",
       "Name: crop, dtype: object"
      ]
     },
     "execution_count": 6,
     "metadata": {},
     "output_type": "execute_result"
    }
   ],
   "source": [
    "df_casuarina['crop'].apply(lambda x: x.shape)"
   ]
  },
  {
   "cell_type": "code",
   "execution_count": null,
   "id": "c61da2d6-2ef6-4051-befe-ed7243058838",
   "metadata": {
    "scrolled": true
   },
   "outputs": [],
   "source": [
    "df_casuarina['glcm'] = df_casuarina['crop'].progress_apply(\n",
    "    lambda x: glcm(x,\n",
    "                   directions=(Direction.EAST, Direction.SOUTH_EAST, Direction.SOUTH, Direction.SOUTH_WEST),\n",
    "                   features=(Features.MEAN,),\n",
    "                   step_size=7,\n",
    "                   radius=3,\n",
    "                   bin_from=2**14,\n",
    "                   bin_to=128,\n",
    "                   normalized_features=True))"
   ]
  },
  {
   "cell_type": "code",
   "execution_count": 13,
   "id": "aa1d3b34-5e11-49ba-b715-8db0a9bbb7d4",
   "metadata": {},
   "outputs": [],
   "source": [
    "df_casuarina.to_pickle('casuarina_glcm.pickle')"
   ]
  },
  {
   "cell_type": "code",
   "execution_count": 14,
   "id": "d325b277-3e33-40da-9c8a-b3d29c067369",
   "metadata": {},
   "outputs": [],
   "source": [
    "df_casuarina = pd.read_pickle('casuarina_glcm.pickle')"
   ]
  },
  {
   "cell_type": "code",
   "execution_count": 15,
   "id": "03aa19f3-3fcb-4c17-b42f-f3abf09c6e0d",
   "metadata": {},
   "outputs": [
    {
     "data": {
      "text/plain": [
       "Index(['name', 'ymin', 'ymax', 'xmin', 'xmax', 'src', 'crop', 'glcm'], dtype='object')"
      ]
     },
     "execution_count": 15,
     "metadata": {},
     "output_type": "execute_result"
    }
   ],
   "source": [
    "df_casuarina.columns"
   ]
  },
  {
   "cell_type": "code",
   "execution_count": 16,
   "id": "73600846-5aa6-4851-8a51-c744e9396b04",
   "metadata": {},
   "outputs": [
    {
     "data": {
      "text/plain": [
       "(129, 160, 5, 7)"
      ]
     },
     "execution_count": 16,
     "metadata": {},
     "output_type": "execute_result"
    }
   ],
   "source": [
    "df_casuarina['glcm'].iloc[0].shape"
   ]
  },
  {
   "cell_type": "code",
   "execution_count": 17,
   "id": "0f4eb7a5-b9ea-4bd2-bdf0-ecd0aca332df",
   "metadata": {},
   "outputs": [
    {
     "data": {
      "text/plain": [
       "True"
      ]
     },
     "execution_count": 17,
     "metadata": {},
     "output_type": "execute_result"
    }
   ],
   "source": [
    "(df_casuarina['glcm'].iloc[0][:,:,:,0] == df_casuarina['glcm'].iloc[0][:,:,:,1]).all()"
   ]
  },
  {
   "cell_type": "code",
   "execution_count": null,
   "id": "f28cf7e3-b5ef-4a2b-aac3-50212d9248f7",
   "metadata": {},
   "outputs": [],
   "source": []
  }
 ],
 "metadata": {
  "kernelspec": {
   "display_name": "Python 3 (ipykernel)",
   "language": "python",
   "name": "python3"
  },
  "language_info": {
   "codemirror_mode": {
    "name": "ipython",
    "version": 3
   },
   "file_extension": ".py",
   "mimetype": "text/x-python",
   "name": "python",
   "nbconvert_exporter": "python",
   "pygments_lexer": "ipython3",
   "version": "3.10.13"
  }
 },
 "nbformat": 4,
 "nbformat_minor": 5
}
