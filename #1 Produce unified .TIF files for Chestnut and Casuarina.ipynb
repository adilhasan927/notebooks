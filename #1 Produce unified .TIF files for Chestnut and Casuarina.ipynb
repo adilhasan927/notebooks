{
 "cells": [
  {
   "cell_type": "markdown",
   "id": "34d92ef0-6287-473a-bd13-08be8a2763dc",
   "metadata": {},
   "source": [
    "## Imports"
   ]
  },
  {
   "cell_type": "code",
   "execution_count": 2,
   "id": "1d688906-439f-4ee2-b5bf-2bd541785125",
   "metadata": {},
   "outputs": [
    {
     "name": "stdout",
     "output_type": "stream",
     "text": [
      "INFO: Pandarallel will run on 4 workers.\n",
      "INFO: Pandarallel will use standard multiprocessing data transfer (pipe) to transfer data between the main process and workers.\n",
      "\n",
      "WARNING: You are on Windows. If you detect any issue with pandarallel, be sure you checked out the Troubleshooting page:\n",
      "https://nalepae.github.io/pandarallel/troubleshooting/\n"
     ]
    }
   ],
   "source": [
    "import pandas as pd\n",
    "import numpy as np\n",
    "import matplotlib.pyplot as plt\n",
    "import rasterio as rio\n",
    "import sklearn as sk\n",
    "import scipy as sc\n",
    "import seaborn as sns\n",
    "\n",
    "import tqdm\n",
    "#from tqdm import tqdm\n",
    "from tqdm.notebook import tqdm # for notebooks\n",
    "tqdm.pandas()\n",
    "\n",
    "import pickle\n",
    "import gc\n",
    "collectAll = lambda : gc.collect(0) + gc.collect(1) + gc.collect(2)\n",
    "\n",
    "from pandarallel import pandarallel\n",
    "pandarallel.initialize(progress_bar=True)\n",
    "\n",
    "from collections import namedtuple\n",
    "import itertools\n",
    "from itertools import product\n",
    "\n",
    "from skimage.feature import graycomatrix\n",
    "from skimage.feature import graycoprops\n",
    "from math import pi\n",
    "\n",
    "import PIL as pil\n",
    "from PIL import Image, ImageDraw\n",
    "\n",
    "import math"
   ]
  },
  {
   "cell_type": "markdown",
   "id": "2f91cdaa-6c85-4113-9131-06ab65d5bc9b",
   "metadata": {},
   "source": [
    "## Process each dataset"
   ]
  },
  {
   "cell_type": "code",
   "execution_count": 3,
   "id": "68e8a513-ab15-4d60-9711-68020c0af1f2",
   "metadata": {},
   "outputs": [],
   "source": [
    "bands = ['wr', 'wg', 'wb', 'r', 'g', 'b', 'nir', 'red_edge', 'ndvi']#, 'chm']\n",
    "props = ['mean_no_glcm', 'mean', 'contrast', 'dissimilarity', 'homogeneity', 'ASM', 'energy', 'correlation']"
   ]
  },
  {
   "cell_type": "code",
   "execution_count": 4,
   "id": "6157e3c3-5f55-44b1-b39e-50a522131d4c",
   "metadata": {},
   "outputs": [],
   "source": [
    "def load_rasters(prefix):\n",
    "    prefix = 'geotiffs/' + prefix + '/'\n",
    "\n",
    "    wrwgwb = prefix + 'result.tif'\n",
    "\n",
    "    r = prefix + 'result_Red.tif'\n",
    "    g = prefix + 'result_Green.tif'\n",
    "    b = prefix + 'result_Blue.tif'\n",
    "\n",
    "    nir = prefix + 'result_NIR.tif'\n",
    "    red_edge = prefix + 'result_RedEdge.tif'\n",
    "\n",
    "    #dsm = prefix + 'dsm.tif'\n",
    "\n",
    "    raster_ds = rio.open(wrwgwb)\n",
    "    #dsm_ds = rio.open(dsm)\n",
    "\n",
    "    arr = np.stack(\n",
    "        [i for i in rio.open(wrwgwb).read()[:3]] +\n",
    "        [rio.open(i).read()[0] for i in [r, g, b, nir, red_edge]], axis=2)\n",
    "    arr = np.nan_to_num(arr).astype('float32')\n",
    "\n",
    "    red = arr[:,:,bands.index('r')]\n",
    "    nir = arr[:,:,bands.index('nir')]\n",
    "    ndvi = np.expand_dims((nir - red) / (nir + red), axis=2)\n",
    "    arr = np.concatenate((arr, ndvi), axis=2)\n",
    "\n",
    "    arr[arr == 0] = np.nan\n",
    "\n",
    "    return prefix, raster_ds, arr\n",
    "\n",
    "    dsm_coreg = np.empty(arr.shape[:2])\n",
    "    dsm = np.nan_to_num(dsm_ds.read()[0])\n",
    "    dsm[dsm < 0] = 0\n",
    "    for row in tqdm(range(dsm_coreg.shape[0])):\n",
    "        for col in range(dsm_coreg.shape[1]):\n",
    "            x_y_spatial = raster_ds.transform * (col, row)\n",
    "            dsm_row_col = dsm_ds.index(*(x_y_spatial))\n",
    "            dsm_coreg[row,col] = dsm[dsm_row_col]\n",
    "    dsm_coreg = np.expand_dims(dsm_coreg, axis=2)\n",
    "    arr = np.concatenate((arr, dsm_coreg), axis=2)\n",
    "    \n",
    "    return prefix, raster_ds, arr"
   ]
  },
  {
   "cell_type": "code",
   "execution_count": 5,
   "id": "659a7afd-433f-4747-ad56-ea7c62b3d4c9",
   "metadata": {},
   "outputs": [
    {
     "name": "stderr",
     "output_type": "stream",
     "text": [
      "C:\\Users\\adil003\\AppData\\Local\\Temp\\ipykernel_5080\\3111934853.py:25: RuntimeWarning: invalid value encountered in divide\n",
      "  ndvi = np.expand_dims((nir - red) / (nir + red), axis=2)\n"
     ]
    }
   ],
   "source": [
    "img_18Dec2020 = load_rasters('18Dec2020')"
   ]
  },
  {
   "cell_type": "code",
   "execution_count": 6,
   "id": "6b98638b-6c67-492c-8764-867ee598118a",
   "metadata": {},
   "outputs": [
    {
     "data": {
      "text/plain": [
       "(7620, 4876, 9)"
      ]
     },
     "execution_count": 6,
     "metadata": {},
     "output_type": "execute_result"
    }
   ],
   "source": [
    "img_18Dec2020[2].shape"
   ]
  },
  {
   "cell_type": "code",
   "execution_count": 9,
   "id": "805e4b42-dce6-4e79-8378-d74b04aab99b",
   "metadata": {},
   "outputs": [],
   "source": [
    "def save_to_disk(base_path, src, arr):\n",
    "    dst_profile = src.profile\n",
    "    dst_profile['count'] = arr.shape[-1]\n",
    "    dst_profile['dtype'] = 'float32'\n",
    "    with rio.open(base_path + 'result_all_bands.tif',\n",
    "                  'w',\n",
    "                  **dst_profile) as dst:\n",
    "        for i in range(arr.shape[-1]):\n",
    "            dst.write(arr[:,:,i], i+1)"
   ]
  },
  {
   "cell_type": "code",
   "execution_count": 24,
   "id": "ead1a5ff-8826-4ecb-b26f-708002f86776",
   "metadata": {},
   "outputs": [],
   "source": [
    "save_to_disk(*img_18Dec2020)"
   ]
  },
  {
   "cell_type": "code",
   "execution_count": 25,
   "id": "b2988434-e816-4e97-8b59-df14ae2c2744",
   "metadata": {},
   "outputs": [],
   "source": [
    "del img_18Dec2020"
   ]
  },
  {
   "cell_type": "code",
   "execution_count": 6,
   "id": "3ddab6f2-2618-47ba-92d2-5d965a56a05c",
   "metadata": {},
   "outputs": [],
   "source": [
    "def load_then_save(name):\n",
    "    save_to_disk(*load_rasters(name))\n",
    "    gc.collect()"
   ]
  },
  {
   "cell_type": "code",
   "execution_count": 10,
   "id": "d3d23f4a-073c-4efd-9005-8502fb6b74d8",
   "metadata": {},
   "outputs": [
    {
     "name": "stderr",
     "output_type": "stream",
     "text": [
      "C:\\Users\\adil003\\AppData\\Local\\Temp\\ipykernel_21380\\3111934853.py:25: RuntimeWarning: invalid value encountered in divide\n",
      "  ndvi = np.expand_dims((nir - red) / (nir + red), axis=2)\n"
     ]
    }
   ],
   "source": [
    "#load_then_save('10May2021')\n",
    "#load_then_save('93deg')\n",
    "load_then_save('183deg')"
   ]
  },
  {
   "cell_type": "code",
   "execution_count": 11,
   "id": "717d2633-7d23-456d-ac8a-a7ccf69235ba",
   "metadata": {},
   "outputs": [
    {
     "data": {
      "text/plain": [
       "0"
      ]
     },
     "execution_count": 11,
     "metadata": {},
     "output_type": "execute_result"
    }
   ],
   "source": [
    "gc.collect()"
   ]
  },
  {
   "cell_type": "code",
   "execution_count": null,
   "id": "3faa6306-cffc-49c7-8745-2299bb70013d",
   "metadata": {},
   "outputs": [],
   "source": []
  }
 ],
 "metadata": {
  "kernelspec": {
   "display_name": "Python 3 (ipykernel)",
   "language": "python",
   "name": "python3"
  },
  "language_info": {
   "codemirror_mode": {
    "name": "ipython",
    "version": 3
   },
   "file_extension": ".py",
   "mimetype": "text/x-python",
   "name": "python",
   "nbconvert_exporter": "python",
   "pygments_lexer": "ipython3",
   "version": "3.11.6"
  }
 },
 "nbformat": 4,
 "nbformat_minor": 5
}
