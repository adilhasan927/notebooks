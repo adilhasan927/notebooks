{
 "cells": [
  {
   "cell_type": "markdown",
   "id": "8180081a-ba3c-4b95-a280-eb715dc19f4a",
   "metadata": {},
   "source": [
    "# Facenet-pytorch viz"
   ]
  },
  {
   "cell_type": "code",
   "execution_count": 1,
   "id": "ec9fe986-391d-4b28-9ef3-6d0941531ab4",
   "metadata": {},
   "outputs": [],
   "source": [
    "import pandas as pd\n",
    "import numpy as np\n",
    "import matplotlib.pyplot as plt\n",
    "from osgeo import gdal\n",
    "import rasterio as rio\n",
    "import sklearn as sk\n",
    "import scipy as sc\n",
    "import seaborn as sns\n",
    "import seaborn_image as isns"
   ]
  },
  {
   "cell_type": "code",
   "execution_count": 2,
   "id": "6f4f4196-561f-4421-a77a-02243bbed991",
   "metadata": {},
   "outputs": [],
   "source": [
    "import tqdm\n",
    "#from tqdm import tqdm\n",
    "from tqdm.notebook import tqdm # for notebooks\n",
    "tqdm.pandas()"
   ]
  },
  {
   "cell_type": "code",
   "execution_count": 3,
   "id": "df3874a4-cfad-4f84-bae1-ed2bc1536388",
   "metadata": {},
   "outputs": [],
   "source": [
    "import pickle\n",
    "import gc\n",
    "collectAll = lambda : gc.collect(0) + gc.collect(1) + gc.collect(2)"
   ]
  },
  {
   "cell_type": "code",
   "execution_count": 4,
   "id": "1610b157-0fd6-4e90-9482-18605c2633fc",
   "metadata": {},
   "outputs": [],
   "source": [
    "#from pandarallel import pandarallel\n",
    "#pandarallel.initialize(progress_bar=True)"
   ]
  },
  {
   "cell_type": "code",
   "execution_count": 5,
   "id": "3c69b625-6c11-4db8-bccc-6dc9c79793d7",
   "metadata": {
    "tags": []
   },
   "outputs": [],
   "source": [
    "#import itables\n",
    "#from itables import show"
   ]
  },
  {
   "cell_type": "code",
   "execution_count": 6,
   "id": "b4d92353-fcbe-45e8-a26f-4705bd79630b",
   "metadata": {},
   "outputs": [],
   "source": [
    "from collections import namedtuple\n",
    "import itertools\n",
    "from itertools import product"
   ]
  },
  {
   "cell_type": "code",
   "execution_count": 7,
   "id": "b1e29f2d-f0a1-49fe-82a4-bfecea4264ab",
   "metadata": {},
   "outputs": [],
   "source": [
    "from skimage.feature import graycomatrix\n",
    "from skimage.feature import graycoprops\n",
    "from math import pi"
   ]
  },
  {
   "cell_type": "code",
   "execution_count": 8,
   "id": "0bd14a30-0100-47d8-baef-0844d9f4462b",
   "metadata": {},
   "outputs": [],
   "source": [
    "import PIL as pil\n",
    "from PIL import Image, ImageDraw"
   ]
  },
  {
   "cell_type": "code",
   "execution_count": 9,
   "id": "16c99bd9-2264-4f21-9aca-53befb421e1d",
   "metadata": {},
   "outputs": [],
   "source": [
    "import geopy as gp"
   ]
  },
  {
   "cell_type": "code",
   "execution_count": 10,
   "id": "5c4f5c9e-0bc9-47e9-8592-13d102fc8410",
   "metadata": {},
   "outputs": [],
   "source": [
    "#import papermill as pm"
   ]
  },
  {
   "cell_type": "code",
   "execution_count": 11,
   "id": "8d69ec91-8b8f-4a6c-9276-0da622fa008b",
   "metadata": {
    "tags": []
   },
   "outputs": [],
   "source": [
    "import math"
   ]
  },
  {
   "cell_type": "code",
   "execution_count": 12,
   "id": "0f587780-29ba-4936-a8cc-64c2c2a4c7be",
   "metadata": {},
   "outputs": [],
   "source": [
    "import matplotlib\n",
    "matplotlib.rcParams[\"image.origin\"] = 'upper'"
   ]
  },
  {
   "cell_type": "code",
   "execution_count": 13,
   "id": "d24a4508-924c-4a3b-a2b2-9fb9a87a3085",
   "metadata": {},
   "outputs": [],
   "source": [
    "import os"
   ]
  },
  {
   "cell_type": "code",
   "execution_count": 14,
   "id": "1b71af46-597b-4b98-bcbf-a732d3b8759f",
   "metadata": {},
   "outputs": [],
   "source": [
    "import functools"
   ]
  },
  {
   "cell_type": "code",
   "execution_count": 15,
   "id": "a462a2e7-3a9b-4b04-9ea3-67fac51ec3ac",
   "metadata": {},
   "outputs": [],
   "source": [
    "import facenet_pytorch"
   ]
  },
  {
   "cell_type": "markdown",
   "id": "77f4197b-9867-499b-b4c9-74e33ed588aa",
   "metadata": {},
   "source": [
    "## Load our model"
   ]
  },
  {
   "cell_type": "code",
   "execution_count": 16,
   "id": "01a0fd3a-940d-45d1-8c8c-445608c9d969",
   "metadata": {},
   "outputs": [],
   "source": [
    "import torch\n",
    "import torchvision\n",
    "from einops import rearrange, reduce, repeat"
   ]
  },
  {
   "cell_type": "code",
   "execution_count": 17,
   "id": "c6217dc2-7616-4903-855f-eb00974ed0da",
   "metadata": {},
   "outputs": [
    {
     "data": {
      "text/plain": [
       "True"
      ]
     },
     "execution_count": 17,
     "metadata": {},
     "output_type": "execute_result"
    }
   ],
   "source": [
    "torch.cuda.is_available()"
   ]
  },
  {
   "cell_type": "code",
   "execution_count": 18,
   "id": "c7d62e99-16b6-49a7-9c51-40d05fba13fc",
   "metadata": {},
   "outputs": [],
   "source": [
    "device = torch.device('cuda')"
   ]
  },
  {
   "cell_type": "code",
   "execution_count": 19,
   "id": "ada73acb-4c17-4ed0-b06c-131a7e27082c",
   "metadata": {},
   "outputs": [],
   "source": [
    "model = facenet_pytorch.InceptionResnetV1(pretrained='vggface2').eval()"
   ]
  },
  {
   "cell_type": "code",
   "execution_count": 20,
   "id": "4077822e-dfe3-4140-9163-016003ea1c43",
   "metadata": {},
   "outputs": [],
   "source": [
    "model = model.to(device)"
   ]
  },
  {
   "cell_type": "markdown",
   "id": "45717990-13cf-4dea-b393-e28bcf064038",
   "metadata": {},
   "source": [
    "## Utility functions"
   ]
  },
  {
   "cell_type": "code",
   "execution_count": 21,
   "id": "a5848eaa-4c7d-448e-802a-edaaf2d1c1e0",
   "metadata": {},
   "outputs": [],
   "source": [
    "def whiten_image(x):\n",
    "    return (x-x.mean(axis=(0,1), keepdims=True))/x.std(axis=(0,1), keepdims=True)"
   ]
  },
  {
   "cell_type": "code",
   "execution_count": 22,
   "id": "bade0bff-8d78-4197-a6fd-53d5e339aae3",
   "metadata": {},
   "outputs": [],
   "source": [
    "df = pd.read_pickle('df_intermediate_embeds.pickle')"
   ]
  },
  {
   "cell_type": "code",
   "execution_count": 23,
   "id": "b34f142b-6def-47e4-9fc9-32d0e902358f",
   "metadata": {},
   "outputs": [
    {
     "name": "stdout",
     "output_type": "stream",
     "text": [
      "<class 'pandas.core.frame.DataFrame'>\n",
      "RangeIndex: 67 entries, 0 to 66\n",
      "Columns: 521 entries, index to 511\n",
      "dtypes: float32(512), int64(5), object(4)\n",
      "memory usage: 138.8+ KB\n"
     ]
    }
   ],
   "source": [
    "df.info()"
   ]
  },
  {
   "cell_type": "code",
   "execution_count": 24,
   "id": "ef378ff9-8ee9-4e6c-a9cb-19a551c61080",
   "metadata": {},
   "outputs": [],
   "source": [
    "bands = ['wr', 'wg', 'wb', 'r', 'g', 'b', 'nir', 'red_edge', 'ndvi', 'chm']\n",
    "props = ['mean_no_glcm', 'mean', 'contrast', 'dissimilarity', 'homogeneity', 'ASM', 'energy', 'correlation']"
   ]
  },
  {
   "cell_type": "code",
   "execution_count": 25,
   "id": "514a340d-8b48-45da-adce-bb118f12e5fc",
   "metadata": {},
   "outputs": [],
   "source": [
    "channels = [bands.index(i) for i in ['wr', 'wg', 'wb', *(('nir',)*3)]]"
   ]
  },
  {
   "cell_type": "code",
   "execution_count": 26,
   "id": "19fdce78-58e2-4e88-bfbd-4a4c12942458",
   "metadata": {},
   "outputs": [],
   "source": [
    "def crop_center(img,cropx,cropy):\n",
    "    y,x = img.shape[:2]\n",
    "    startx = x//2-(cropx//2)\n",
    "    starty = y//2-(cropy//2)    \n",
    "    return img[starty:starty+cropy,startx:startx+cropx]"
   ]
  },
  {
   "cell_type": "markdown",
   "id": "77a191b5-ef4b-47a9-b5ba-acec0515b002",
   "metadata": {},
   "source": [
    "## Non-finetuned facenet outputs"
   ]
  },
  {
   "cell_type": "code",
   "execution_count": 28,
   "id": "feb08252-f859-4756-a751-a47bb2648a30",
   "metadata": {},
   "outputs": [
    {
     "data": {
      "application/vnd.jupyter.widget-view+json": {
       "model_id": "f3d88369b3ef463f9340aa223fe1feae",
       "version_major": 2,
       "version_minor": 0
      },
      "text/plain": [
       "  0%|          | 0/67 [00:00<?, ?it/s]"
      ]
     },
     "metadata": {},
     "output_type": "display_data"
    }
   ],
   "source": [
    "df['whitened'] = df['crop'].progress_apply(lambda x: torchvision.transforms.functional.resize(\n",
    "    torch.Tensor(rearrange(whiten_image(crop_center(x, 64, 64)[:,:,channels[:3]]), '(b h) w c -> b c h w', b=1)), (160, 160), antialias=True))"
   ]
  },
  {
   "cell_type": "code",
   "execution_count": null,
   "id": "50d83508-ccfe-4660-9b0f-90a58fe059a4",
   "metadata": {},
   "outputs": [
    {
     "data": {
      "application/vnd.jupyter.widget-view+json": {
       "model_id": "0ab4e0080c654393b796f2eea92c5a05",
       "version_major": 2,
       "version_minor": 0
      },
      "text/plain": [
       "  0%|          | 0/67 [00:00<?, ?it/s]"
      ]
     },
     "metadata": {},
     "output_type": "display_data"
    }
   ],
   "source": [
    "with torch.no_grad():\n",
    "    df['embeds'] = df['whitened'].progress_apply(lambda x: model(x.to(device)).cpu())"
   ]
  },
  {
   "cell_type": "code",
   "execution_count": null,
   "id": "c90202e5-aea9-4365-bfd8-a83a0c95d574",
   "metadata": {},
   "outputs": [],
   "source": [
    "embeds = df['embeds'].progress_apply(lambda x: pd.Series(x.detach().flatten()))"
   ]
  },
  {
   "cell_type": "code",
   "execution_count": null,
   "id": "d2472d26-f8eb-47ff-ba64-c61a1ae4c130",
   "metadata": {},
   "outputs": [],
   "source": [
    "df = pd.concat((df[[i for i in df.columns if i != 'embeds']], embeds), axis=1)"
   ]
  },
  {
   "cell_type": "code",
   "execution_count": null,
   "id": "287a1ba2-677b-4bf8-94e3-3b7bb9ee877b",
   "metadata": {},
   "outputs": [],
   "source": [
    "df.to_pickle('df_intermediate_embeds.pickle')"
   ]
  },
  {
   "cell_type": "code",
   "execution_count": null,
   "id": "0507bed8-a249-4953-8433-7018e3119619",
   "metadata": {},
   "outputs": [],
   "source": [
    "df_nv = df.drop(['crop', 'whitened'], axis=1)"
   ]
  },
  {
   "cell_type": "code",
   "execution_count": null,
   "id": "64bba2b2-4e42-4d53-bbb6-b20c989c0010",
   "metadata": {},
   "outputs": [],
   "source": [
    "X = df_nv.iloc[:,7:]"
   ]
  },
  {
   "cell_type": "code",
   "execution_count": null,
   "id": "8894c7f9-d3a2-4c6d-9b1e-b1b446e0d0ad",
   "metadata": {},
   "outputs": [],
   "source": [
    "y = df_nv['name']"
   ]
  },
  {
   "cell_type": "markdown",
   "id": "801412db-cb0e-4a77-ab92-d30ff747e39f",
   "metadata": {},
   "source": [
    "## UMAP our previous outputs"
   ]
  },
  {
   "cell_type": "code",
   "execution_count": null,
   "id": "19c508bb-d276-4504-a015-b88862341ebe",
   "metadata": {
    "scrolled": true
   },
   "outputs": [],
   "source": [
    "from umap import UMAP"
   ]
  },
  {
   "cell_type": "code",
   "execution_count": null,
   "id": "4468ac90-a7f7-4f9b-a6b4-c465ce5f1a26",
   "metadata": {},
   "outputs": [],
   "source": [
    "train = df_nv[df_nv['src'] == '10May2021']\n",
    "test = df_nv[df_nv['src'] == '18Dec2020']"
   ]
  },
  {
   "cell_type": "code",
   "execution_count": null,
   "id": "d268efad-7a49-4c67-baeb-8e1d4b247143",
   "metadata": {},
   "outputs": [],
   "source": [
    "X_train, X_test = train.iloc[:,7:], test.iloc[:,7:]\n",
    "y_train, y_test = train['name'], test['name']"
   ]
  },
  {
   "cell_type": "code",
   "execution_count": null,
   "id": "992b754a-b96b-4257-af6d-6561b500ec6a",
   "metadata": {},
   "outputs": [],
   "source": [
    "reducer = UMAP(n_components=2, n_neighbors=5, min_dist=0.1, metric='euclidean')"
   ]
  },
  {
   "cell_type": "code",
   "execution_count": null,
   "id": "50ba52ce-8c4d-4393-983b-2def6e43263f",
   "metadata": {},
   "outputs": [],
   "source": [
    "reducer.fit(X)\n",
    "X_train_trans = reducer.transform(X_train)\n",
    "X_test_trans = reducer.transform(X_test)"
   ]
  },
  {
   "cell_type": "code",
   "execution_count": null,
   "id": "8de382ee-49cd-4d23-a34b-af0718efc89c",
   "metadata": {},
   "outputs": [],
   "source": [
    "fig, ax = plt.subplots(1, 2, figsize=(5.6*2, 4.8))\n",
    "sns.scatterplot(x=X_train_trans[:,0],\n",
    "                y=X_train_trans[:,1],\n",
    "                hue=y_train,\n",
    "                palette='tab20',\n",
    "                legend=False,\n",
    "                ax=ax[0])\n",
    "ax[0].set_title(\"UMAP May and December,\\n only May shown\")\n",
    "sns.scatterplot(x=X_test_trans[:,0],\n",
    "                y=X_test_trans[:,1],\n",
    "                hue=y_test,\n",
    "                palette='tab20',\n",
    "                ax=ax[1])\n",
    "ax[1].set_title(\"UMAP May and December,\\n only May shown\")\n",
    "sns.move_legend(ax[1], \"upper left\", bbox_to_anchor=(1, 1))"
   ]
  },
  {
   "cell_type": "markdown",
   "id": "f7fad5d7-1f2c-45ef-8bc7-10a42648b61e",
   "metadata": {},
   "source": [
    "## Compare to a PCA"
   ]
  },
  {
   "cell_type": "code",
   "execution_count": null,
   "id": "e5bc703f-8fec-43e9-a5eb-eea6c3e79c52",
   "metadata": {},
   "outputs": [],
   "source": [
    "from sklearn.decomposition import PCA"
   ]
  },
  {
   "cell_type": "code",
   "execution_count": null,
   "id": "f4e5787d-e82b-480e-973b-57c07f815eed",
   "metadata": {},
   "outputs": [],
   "source": [
    "reducer = PCA(n_components=2)"
   ]
  },
  {
   "cell_type": "code",
   "execution_count": null,
   "id": "12ed02b0-ed02-47e1-b701-b27464647ed9",
   "metadata": {},
   "outputs": [],
   "source": [
    "X_trans = reducer.fit_transform(X)"
   ]
  },
  {
   "cell_type": "code",
   "execution_count": null,
   "id": "be882d36-ac52-409a-9943-e98fc51df3d0",
   "metadata": {},
   "outputs": [],
   "source": [
    "reducer.fit(X)\n",
    "X_train_trans = reducer.transform(X_train)\n",
    "X_test_trans = reducer.transform(X_test)"
   ]
  },
  {
   "cell_type": "code",
   "execution_count": null,
   "id": "20085cfe-8f3b-4c71-8a6c-8d8cf40b25de",
   "metadata": {},
   "outputs": [],
   "source": [
    "fig, ax = plt.subplots(1, 2, figsize=(5.6*2, 4.8))\n",
    "sns.scatterplot(x=X_train_trans[:,0],\n",
    "                y=X_train_trans[:,1],\n",
    "                hue=y_train,\n",
    "                palette='tab20',\n",
    "                legend=False,\n",
    "                ax=ax[0])\n",
    "ax[0].set_title(\"PCA May and December,\\n only May shown\")\n",
    "sns.scatterplot(x=X_test_trans[:,0],\n",
    "                y=X_test_trans[:,1],\n",
    "                hue=y_test,\n",
    "                palette='tab20',\n",
    "                ax=ax[1])\n",
    "ax[1].set_title(\"PCA May and December,\\n only December shown\")\n",
    "sns.move_legend(ax[1], \"upper left\", bbox_to_anchor=(1, 1))"
   ]
  },
  {
   "cell_type": "markdown",
   "id": "4e076860-4de8-45bd-a5c9-c93fddd071c7",
   "metadata": {},
   "source": [
    "## Compare to an LDA"
   ]
  },
  {
   "cell_type": "code",
   "execution_count": null,
   "id": "e968e4ab-a646-446e-99b9-8b5dbbda7f58",
   "metadata": {},
   "outputs": [],
   "source": [
    "from sklearn.discriminant_analysis import LinearDiscriminantAnalysis"
   ]
  },
  {
   "cell_type": "code",
   "execution_count": null,
   "id": "b16522ae-23c3-4bc0-90c5-b5cfd0e7b8ba",
   "metadata": {},
   "outputs": [],
   "source": [
    "reducer = LinearDiscriminantAnalysis(n_components=2)"
   ]
  },
  {
   "cell_type": "code",
   "execution_count": null,
   "id": "50ffd241-a6ea-4f6b-bdc4-5e733ea49b58",
   "metadata": {},
   "outputs": [],
   "source": [
    "reducer.fit(X_train, y_train)\n",
    "X_train_trans = reducer.transform(X_train)\n",
    "X_test_trans = reducer.transform(X_test)"
   ]
  },
  {
   "cell_type": "code",
   "execution_count": null,
   "id": "6d713bcf-aba5-4127-9504-ec7d25b1144f",
   "metadata": {},
   "outputs": [],
   "source": [
    "fig, ax = plt.subplots(1, 2, figsize=(5.6*2, 4.8))\n",
    "sns.scatterplot(x=X_train_trans[:,0],\n",
    "                y=X_train_trans[:,1],\n",
    "                hue=y_train,\n",
    "                palette='tab20',\n",
    "                legend=False,\n",
    "                ax=ax[0])\n",
    "ax[0].set_title(\"LDA train MAy test December,\\n only May shown\")\n",
    "sns.scatterplot(x=X_test_trans[:,0],\n",
    "                y=X_test_trans[:,1],\n",
    "                hue=y_test,\n",
    "                palette='tab20',\n",
    "                ax=ax[1])\n",
    "ax[1].set_title(\"LDA train MAy test December,\\n only December shown\")\n",
    "sns.move_legend(ax[1], \"upper left\", bbox_to_anchor=(1, 1))"
   ]
  },
  {
   "cell_type": "code",
   "execution_count": null,
   "id": "5711e863-86bd-4fda-8213-0727d558a3ef",
   "metadata": {},
   "outputs": [],
   "source": []
  }
 ],
 "metadata": {
  "kernelspec": {
   "display_name": "Python 3 (ipykernel)",
   "language": "python",
   "name": "python3"
  },
  "language_info": {
   "codemirror_mode": {
    "name": "ipython",
    "version": 3
   },
   "file_extension": ".py",
   "mimetype": "text/x-python",
   "name": "python",
   "nbconvert_exporter": "python",
   "pygments_lexer": "ipython3",
   "version": "3.11.5"
  }
 },
 "nbformat": 4,
 "nbformat_minor": 5
}
