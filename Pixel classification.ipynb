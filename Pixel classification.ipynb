{
 "cells": [
  {
   "cell_type": "markdown",
   "id": "7e7c0723-f73c-42e5-b394-7d18aa21b975",
   "metadata": {},
   "source": [
    "# Pixel classification"
   ]
  },
  {
   "cell_type": "markdown",
   "id": "aa70b458-9e7d-4206-86cd-98079d5a7e4e",
   "metadata": {},
   "source": [
    "## Imports"
   ]
  },
  {
   "cell_type": "code",
   "execution_count": 2,
   "id": "e030dfc3-8cf7-45cb-be5f-9a404d475a88",
   "metadata": {},
   "outputs": [],
   "source": [
    "import pandas as pd\n",
    "import numpy as np\n",
    "import matplotlib.pyplot as plt\n",
    "from osgeo import gdal\n",
    "import rasterio as rio\n",
    "import sklearn as sk\n",
    "import scipy as sc\n",
    "import seaborn as sns\n",
    "import seaborn_image as isns"
   ]
  },
  {
   "cell_type": "code",
   "execution_count": 3,
   "id": "e239a02e-356d-464d-9e82-f23aea043b7c",
   "metadata": {},
   "outputs": [],
   "source": [
    "import tqdm\n",
    "#from tqdm import tqdm\n",
    "from tqdm.notebook import tqdm # for notebooks\n",
    "tqdm.pandas()"
   ]
  },
  {
   "cell_type": "code",
   "execution_count": 4,
   "id": "3a4a9cc1-6552-48d4-883a-b92036ed218b",
   "metadata": {},
   "outputs": [],
   "source": [
    "import pickle\n",
    "import gc\n",
    "collectAll = lambda : gc.collect(0) + gc.collect(1) + gc.collect(2)"
   ]
  },
  {
   "cell_type": "code",
   "execution_count": 5,
   "id": "1cf416c7-de3b-4f9f-ae67-b15e7c869f5f",
   "metadata": {},
   "outputs": [],
   "source": [
    "#from pandarallel import pandarallel\n",
    "#pandarallel.initialize(progress_bar=True)"
   ]
  },
  {
   "cell_type": "code",
   "execution_count": 6,
   "id": "13075777-64ec-44fe-a687-325439cfccae",
   "metadata": {
    "tags": []
   },
   "outputs": [],
   "source": [
    "#import itables\n",
    "#from itables import show"
   ]
  },
  {
   "cell_type": "code",
   "execution_count": 7,
   "id": "5b2461e9-4a95-4ac6-8c53-273ab36c66ca",
   "metadata": {},
   "outputs": [],
   "source": [
    "from collections import namedtuple\n",
    "import itertools\n",
    "from itertools import product"
   ]
  },
  {
   "cell_type": "code",
   "execution_count": 8,
   "id": "f03c2620-1cd3-4e4a-917f-99e995284db7",
   "metadata": {},
   "outputs": [],
   "source": [
    "from skimage.feature import graycomatrix\n",
    "from skimage.feature import graycoprops\n",
    "from math import pi"
   ]
  },
  {
   "cell_type": "code",
   "execution_count": 9,
   "id": "9b62bfd6-e5b5-460e-a170-ffa95e09607b",
   "metadata": {},
   "outputs": [],
   "source": [
    "import PIL as pil\n",
    "from PIL import Image, ImageDraw"
   ]
  },
  {
   "cell_type": "code",
   "execution_count": 10,
   "id": "00751553-62b3-403e-9efa-f2e429eed724",
   "metadata": {},
   "outputs": [],
   "source": [
    "import geopy as gp"
   ]
  },
  {
   "cell_type": "code",
   "execution_count": 11,
   "id": "7255d394-2092-4519-9527-195068f02a40",
   "metadata": {},
   "outputs": [],
   "source": [
    "#import papermill as pm"
   ]
  },
  {
   "cell_type": "code",
   "execution_count": 12,
   "id": "2924096f-c359-417e-b537-31cb7d2f3f44",
   "metadata": {
    "tags": []
   },
   "outputs": [],
   "source": [
    "import math"
   ]
  },
  {
   "cell_type": "code",
   "execution_count": 13,
   "id": "101c0813-327a-41b6-9513-8cc0d9a77c53",
   "metadata": {},
   "outputs": [],
   "source": [
    "import matplotlib\n",
    "matplotlib.rcParams[\"image.origin\"] = 'upper'"
   ]
  },
  {
   "cell_type": "code",
   "execution_count": 14,
   "id": "9db49385-3f3d-41b0-93a2-b4773d1cd1d5",
   "metadata": {},
   "outputs": [],
   "source": [
    "import os"
   ]
  },
  {
   "cell_type": "code",
   "execution_count": 15,
   "id": "8a1de34c-46e0-411b-a4b9-f3cb1c98e26b",
   "metadata": {},
   "outputs": [],
   "source": [
    "import functools"
   ]
  },
  {
   "cell_type": "markdown",
   "id": "056d6240-8b8e-41b1-96ef-ed7b9661cd8d",
   "metadata": {},
   "source": [
    "## Load our data back in"
   ]
  },
  {
   "cell_type": "code",
   "execution_count": 16,
   "id": "59e1bc54-a5ca-450c-8b94-712d0cfd7437",
   "metadata": {},
   "outputs": [],
   "source": [
    "os.chdir('E:/27-8-2023')"
   ]
  },
  {
   "cell_type": "code",
   "execution_count": 17,
   "id": "e116d8e2-d6af-456d-b48f-c578859112f2",
   "metadata": {},
   "outputs": [],
   "source": [
    "df = pd.read_pickle('df_intermediate.pickle')"
   ]
  },
  {
   "cell_type": "code",
   "execution_count": 18,
   "id": "d88f069a-f0f7-4f31-a080-66dd2815d686",
   "metadata": {},
   "outputs": [
    {
     "name": "stdout",
     "output_type": "stream",
     "text": [
      "<class 'pandas.core.frame.DataFrame'>\n",
      "RangeIndex: 67 entries, 0 to 66\n",
      "Data columns (total 8 columns):\n",
      " #   Column  Non-Null Count  Dtype \n",
      "---  ------  --------------  ----- \n",
      " 0   index   67 non-null     int64 \n",
      " 1   name    67 non-null     object\n",
      " 2   y0      67 non-null     int64 \n",
      " 3   y1      67 non-null     int64 \n",
      " 4   x0      67 non-null     int64 \n",
      " 5   x1      67 non-null     int64 \n",
      " 6   src     67 non-null     object\n",
      " 7   crop    67 non-null     object\n",
      "dtypes: int64(5), object(3)\n",
      "memory usage: 4.3+ KB\n"
     ]
    }
   ],
   "source": [
    "df.info()"
   ]
  },
  {
   "cell_type": "code",
   "execution_count": null,
   "id": "4c6cc1c8-048d-49c0-8199-56638177b756",
   "metadata": {},
   "outputs": [],
   "source": [
    "##"
   ]
  },
  {
   "cell_type": "code",
   "execution_count": null,
   "id": "4ead6a6e-ecd9-4dd1-a740-243dc7c8f418",
   "metadata": {},
   "outputs": [],
   "source": []
  }
 ],
 "metadata": {
  "kernelspec": {
   "display_name": "Python 3 (ipykernel)",
   "language": "python",
   "name": "python3"
  },
  "language_info": {
   "codemirror_mode": {
    "name": "ipython",
    "version": 3
   },
   "file_extension": ".py",
   "mimetype": "text/x-python",
   "name": "python",
   "nbconvert_exporter": "python",
   "pygments_lexer": "ipython3",
   "version": "3.11.5"
  }
 },
 "nbformat": 4,
 "nbformat_minor": 5
}
